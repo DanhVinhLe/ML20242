{
 "cells": [
  {
   "cell_type": "code",
   "execution_count": 1,
   "id": "c0a3ce64",
   "metadata": {
    "_cell_guid": "b1076dfc-b9ad-4769-8c92-a6c4dae69d19",
    "_uuid": "8f2839f25d086af736a60e9eeb907d3b93b6e0e5",
    "execution": {
     "iopub.execute_input": "2025-05-22T08:56:32.000242Z",
     "iopub.status.busy": "2025-05-22T08:56:31.999992Z",
     "iopub.status.idle": "2025-05-22T08:56:42.050148Z",
     "shell.execute_reply": "2025-05-22T08:56:42.049388Z"
    },
    "papermill": {
     "duration": 10.054845,
     "end_time": "2025-05-22T08:56:42.051727",
     "exception": false,
     "start_time": "2025-05-22T08:56:31.996882",
     "status": "completed"
    },
    "tags": []
   },
   "outputs": [],
   "source": [
    "import torch\n",
    "import torch.nn as nn\n",
    "import torch.optim as optim\n",
    "import torch.nn.functional as F\n",
    "from torch.utils.data import DataLoader\n",
    "from torchvision import datasets, transforms, models\n",
    "import time\n",
    "import copy\n",
    "import matplotlib.pyplot as plt\n",
    "import numpy as np\n",
    "from tqdm import tqdm\n",
    "import os "
   ]
  },
  {
   "cell_type": "code",
   "execution_count": 2,
   "id": "cea1f055",
   "metadata": {
    "execution": {
     "iopub.execute_input": "2025-05-22T08:56:42.056471Z",
     "iopub.status.busy": "2025-05-22T08:56:42.055792Z",
     "iopub.status.idle": "2025-05-22T08:56:42.059742Z",
     "shell.execute_reply": "2025-05-22T08:56:42.059206Z"
    },
    "papermill": {
     "duration": 0.007067,
     "end_time": "2025-05-22T08:56:42.060803",
     "exception": false,
     "start_time": "2025-05-22T08:56:42.053736",
     "status": "completed"
    },
    "tags": []
   },
   "outputs": [],
   "source": [
    "import matplotlib.pyplot as plt\n",
    "%matplotlib inline"
   ]
  },
  {
   "cell_type": "code",
   "execution_count": null,
   "id": "d8454160",
   "metadata": {
    "execution": {
     "iopub.execute_input": "2025-05-22T08:58:00.459108Z",
     "iopub.status.busy": "2025-05-22T08:58:00.458862Z",
     "iopub.status.idle": "2025-05-22T08:58:04.397625Z",
     "shell.execute_reply": "2025-05-22T08:58:04.396729Z"
    },
    "papermill": {
     "duration": 3.962751,
     "end_time": "2025-05-22T08:58:04.399058",
     "exception": false,
     "start_time": "2025-05-22T08:58:00.436307",
     "status": "completed"
    },
    "tags": []
   },
   "outputs": [],
   "source": [
    "!git clone https://github.com/DanhVinhLe/ML20242.git"
   ]
  },
  {
   "cell_type": "code",
   "execution_count": null,
   "id": "c710ec8a",
   "metadata": {
    "execution": {
     "iopub.execute_input": "2025-05-22T08:58:04.443592Z",
     "iopub.status.busy": "2025-05-22T08:58:04.442921Z",
     "iopub.status.idle": "2025-05-22T12:15:02.443400Z",
     "shell.execute_reply": "2025-05-22T12:15:02.442497Z"
    },
    "papermill": {
     "duration": 11818.02379,
     "end_time": "2025-05-22T12:15:02.444723",
     "exception": false,
     "start_time": "2025-05-22T08:58:04.420933",
     "status": "completed"
    },
    "tags": []
   },
   "outputs": [],
   "source": [
    "!python /kaggle/working/ML20242/train.py \\\n",
    "    --train_dir=\"train_dir\" \\\n",
    "    --test_dir=\"test_dir\" \\\n",
    "    --input_size=224 \\\n",
    "    --batch_size=64 \\\n",
    "    --num_epochs=60 \\\n",
    "    --learning_rate=1e-4 \\\n",
    "    --model_name=\"vgg16_bn\" \\\n",
    "    --optimizer='adam' "
   ]
  }
 ],
 "metadata": {
  "kaggle": {
   "accelerator": "gpu",
   "dataSources": [
    {
     "datasetId": 111880,
     "sourceId": 269359,
     "sourceType": "datasetVersion"
    }
   ],
   "dockerImageVersionId": 31040,
   "isGpuEnabled": true,
   "isInternetEnabled": true,
   "language": "python",
   "sourceType": "notebook"
  },
  "kernelspec": {
   "display_name": "Python 3",
   "language": "python",
   "name": "python3"
  },
  "language_info": {
   "codemirror_mode": {
    "name": "ipython",
    "version": 3
   },
   "file_extension": ".py",
   "mimetype": "text/x-python",
   "name": "python",
   "nbconvert_exporter": "python",
   "pygments_lexer": "ipython3",
   "version": "3.11.11"
  },
  "papermill": {
   "default_parameters": {},
   "duration": 11919.422623,
   "end_time": "2025-05-22T12:15:07.044794",
   "environment_variables": {},
   "exception": null,
   "input_path": "__notebook__.ipynb",
   "output_path": "__notebook__.ipynb",
   "parameters": {},
   "start_time": "2025-05-22T08:56:27.622171",
   "version": "2.6.0"
  }
 },
 "nbformat": 4,
 "nbformat_minor": 5
}
