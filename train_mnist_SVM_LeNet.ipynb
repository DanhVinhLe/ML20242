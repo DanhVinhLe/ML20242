{
 "cells": [
  {
   "cell_type": "code",
   "execution_count": 1,
   "id": "f3279322",
   "metadata": {},
   "outputs": [
    {
     "name": "stdout",
     "output_type": "stream",
     "text": [
      "MNIST data will be stored/looked for in: ./mnist_data\n",
      "Saved models will be stored in: ./saved_models\n",
      "\n",
      "========================================\n",
      " RUNNING TRAINING FOR LinearSVM ON MNIST \n",
      "========================================\n",
      "\n",
      "Running LinearSVM with args: Namespace(train_dir=None, test_dir=None, mnist_data_dir='./mnist_data', input_size=28, batch_size=128, num_epochs=20, learning_rate=0.001, model_name='linearsvm_mnist', pretrained=False, save_path='./saved_models\\\\best_linearsvm_mnist_mnist.pth', criterion='hinge', optimizer='adam', scheduler='cosine', num_warmup_steps=0, model_type='large', dropout_rate=0.4, use_class_weights=False, weight_type='inverse')\n",
      "Using device: cpu\n"
     ]
    },
    {
     "name": "stderr",
     "output_type": "stream",
     "text": [
      "100%|██████████| 9.91M/9.91M [00:02<00:00, 3.58MB/s]\n",
      "100%|██████████| 28.9k/28.9k [00:00<00:00, 98.6kB/s]\n",
      "100%|██████████| 1.65M/1.65M [00:02<00:00, 557kB/s]\n",
      "100%|██████████| 4.54k/4.54k [00:00<00:00, 8.13MB/s]\n"
     ]
    },
    {
     "name": "stdout",
     "output_type": "stream",
     "text": [
      "MNIST Data Prepared:\n",
      "Number of classes: 10\n",
      "Train set size: 60000\n",
      "Test set size: 10000\n",
      "Dataset sizes: {'train': 60000, 'test': 10000}\n",
      "Class names: ['0', '1', '2', '3', '4', '5', '6', '7', '8', '9']\n",
      "Model: LinearSVM(\n",
      "  (linear): Linear(in_features=784, out_features=10, bias=True)\n",
      ")\n",
      "Epoch 1/20\n",
      "----------\n"
     ]
    },
    {
     "name": "stderr",
     "output_type": "stream",
     "text": [
      "train epoch 1/20: 100%|██████████| 469/469 [00:09<00:00, 47.38batch/s, loss=0.1914]\n"
     ]
    },
    {
     "name": "stdout",
     "output_type": "stream",
     "text": [
      "train Loss: 0.1914 Acc: 0.7249\n"
     ]
    },
    {
     "name": "stderr",
     "output_type": "stream",
     "text": [
      "test epoch 1/20: 100%|██████████| 79/79 [00:01<00:00, 45.99batch/s, loss=0.0822]\n"
     ]
    },
    {
     "name": "stdout",
     "output_type": "stream",
     "text": [
      "Model saved to ./saved_models\\best_linearsvm_mnist_mnist.pth\n",
      "test Loss: 0.0822 Acc: 0.8584\n",
      "Epoch 1 completed in 12 seconds\n",
      "Epoch 2/20\n",
      "----------\n"
     ]
    },
    {
     "name": "stderr",
     "output_type": "stream",
     "text": [
      "train epoch 2/20: 100%|██████████| 469/469 [00:12<00:00, 37.55batch/s, loss=0.0726]\n"
     ]
    },
    {
     "name": "stdout",
     "output_type": "stream",
     "text": [
      "train Loss: 0.0726 Acc: 0.8701\n"
     ]
    },
    {
     "name": "stderr",
     "output_type": "stream",
     "text": [
      "test epoch 2/20: 100%|██████████| 79/79 [00:02<00:00, 38.45batch/s, loss=0.0603]\n"
     ]
    },
    {
     "name": "stdout",
     "output_type": "stream",
     "text": [
      "Model saved to ./saved_models\\best_linearsvm_mnist_mnist.pth\n",
      "test Loss: 0.0603 Acc: 0.8888\n",
      "Epoch 2 completed in 15 seconds\n",
      "Epoch 3/20\n",
      "----------\n"
     ]
    },
    {
     "name": "stderr",
     "output_type": "stream",
     "text": [
      "train epoch 3/20: 100%|██████████| 469/469 [00:12<00:00, 38.48batch/s, loss=0.0582]\n"
     ]
    },
    {
     "name": "stdout",
     "output_type": "stream",
     "text": [
      "train Loss: 0.0582 Acc: 0.8903\n"
     ]
    },
    {
     "name": "stderr",
     "output_type": "stream",
     "text": [
      "test epoch 3/20: 100%|██████████| 79/79 [00:01<00:00, 41.24batch/s, loss=0.0522]\n"
     ]
    },
    {
     "name": "stdout",
     "output_type": "stream",
     "text": [
      "Model saved to ./saved_models\\best_linearsvm_mnist_mnist.pth\n",
      "test Loss: 0.0522 Acc: 0.9018\n",
      "Epoch 3 completed in 14 seconds\n",
      "Epoch 4/20\n",
      "----------\n"
     ]
    },
    {
     "name": "stderr",
     "output_type": "stream",
     "text": [
      "train epoch 4/20: 100%|██████████| 469/469 [00:12<00:00, 37.89batch/s, loss=0.0515]\n"
     ]
    },
    {
     "name": "stdout",
     "output_type": "stream",
     "text": [
      "train Loss: 0.0515 Acc: 0.8993\n"
     ]
    },
    {
     "name": "stderr",
     "output_type": "stream",
     "text": [
      "test epoch 4/20: 100%|██████████| 79/79 [00:01<00:00, 40.16batch/s, loss=0.0475]\n"
     ]
    },
    {
     "name": "stdout",
     "output_type": "stream",
     "text": [
      "Model saved to ./saved_models\\best_linearsvm_mnist_mnist.pth\n",
      "test Loss: 0.0475 Acc: 0.9071\n",
      "Epoch 4 completed in 14 seconds\n",
      "Epoch 5/20\n",
      "----------\n"
     ]
    },
    {
     "name": "stderr",
     "output_type": "stream",
     "text": [
      "train epoch 5/20: 100%|██████████| 469/469 [00:12<00:00, 36.77batch/s, loss=0.0475]\n"
     ]
    },
    {
     "name": "stdout",
     "output_type": "stream",
     "text": [
      "train Loss: 0.0475 Acc: 0.9045\n"
     ]
    },
    {
     "name": "stderr",
     "output_type": "stream",
     "text": [
      "test epoch 5/20: 100%|██████████| 79/79 [00:02<00:00, 37.42batch/s, loss=0.0448]\n"
     ]
    },
    {
     "name": "stdout",
     "output_type": "stream",
     "text": [
      "Model saved to ./saved_models\\best_linearsvm_mnist_mnist.pth\n",
      "test Loss: 0.0448 Acc: 0.9104\n",
      "Epoch 5 completed in 15 seconds\n",
      "Epoch 6/20\n",
      "----------\n"
     ]
    },
    {
     "name": "stderr",
     "output_type": "stream",
     "text": [
      "train epoch 6/20: 100%|██████████| 469/469 [00:12<00:00, 36.20batch/s, loss=0.0449]\n"
     ]
    },
    {
     "name": "stdout",
     "output_type": "stream",
     "text": [
      "train Loss: 0.0449 Acc: 0.9090\n"
     ]
    },
    {
     "name": "stderr",
     "output_type": "stream",
     "text": [
      "test epoch 6/20: 100%|██████████| 79/79 [00:01<00:00, 39.94batch/s, loss=0.0428]\n"
     ]
    },
    {
     "name": "stdout",
     "output_type": "stream",
     "text": [
      "Model saved to ./saved_models\\best_linearsvm_mnist_mnist.pth\n",
      "test Loss: 0.0428 Acc: 0.9119\n",
      "Epoch 6 completed in 15 seconds\n",
      "Epoch 7/20\n",
      "----------\n"
     ]
    },
    {
     "name": "stderr",
     "output_type": "stream",
     "text": [
      "train epoch 7/20: 100%|██████████| 469/469 [00:17<00:00, 27.54batch/s, loss=0.0430]\n"
     ]
    },
    {
     "name": "stdout",
     "output_type": "stream",
     "text": [
      "train Loss: 0.0430 Acc: 0.9112\n"
     ]
    },
    {
     "name": "stderr",
     "output_type": "stream",
     "text": [
      "test epoch 7/20: 100%|██████████| 79/79 [00:03<00:00, 23.17batch/s, loss=0.0416]\n"
     ]
    },
    {
     "name": "stdout",
     "output_type": "stream",
     "text": [
      "Model saved to ./saved_models\\best_linearsvm_mnist_mnist.pth\n",
      "test Loss: 0.0416 Acc: 0.9145\n",
      "Epoch 7 completed in 20 seconds\n",
      "Epoch 8/20\n",
      "----------\n"
     ]
    },
    {
     "name": "stderr",
     "output_type": "stream",
     "text": [
      "train epoch 8/20: 100%|██████████| 469/469 [00:13<00:00, 33.96batch/s, loss=0.0415]\n"
     ]
    },
    {
     "name": "stdout",
     "output_type": "stream",
     "text": [
      "train Loss: 0.0415 Acc: 0.9135\n"
     ]
    },
    {
     "name": "stderr",
     "output_type": "stream",
     "text": [
      "test epoch 8/20: 100%|██████████| 79/79 [00:01<00:00, 39.75batch/s, loss=0.0407]\n"
     ]
    },
    {
     "name": "stdout",
     "output_type": "stream",
     "text": [
      "Model saved to ./saved_models\\best_linearsvm_mnist_mnist.pth\n",
      "test Loss: 0.0407 Acc: 0.9138\n",
      "Epoch 8 completed in 16 seconds\n",
      "Epoch 9/20\n",
      "----------\n"
     ]
    },
    {
     "name": "stderr",
     "output_type": "stream",
     "text": [
      "train epoch 9/20: 100%|██████████| 469/469 [00:14<00:00, 33.14batch/s, loss=0.0404]\n"
     ]
    },
    {
     "name": "stdout",
     "output_type": "stream",
     "text": [
      "train Loss: 0.0404 Acc: 0.9153\n"
     ]
    },
    {
     "name": "stderr",
     "output_type": "stream",
     "text": [
      "test epoch 9/20: 100%|██████████| 79/79 [00:02<00:00, 32.50batch/s, loss=0.0396]\n"
     ]
    },
    {
     "name": "stdout",
     "output_type": "stream",
     "text": [
      "Model saved to ./saved_models\\best_linearsvm_mnist_mnist.pth\n",
      "test Loss: 0.0396 Acc: 0.9157\n",
      "Epoch 9 completed in 17 seconds\n",
      "Epoch 10/20\n",
      "----------\n"
     ]
    },
    {
     "name": "stderr",
     "output_type": "stream",
     "text": [
      "train epoch 10/20: 100%|██████████| 469/469 [00:17<00:00, 27.33batch/s, loss=0.0394]\n"
     ]
    },
    {
     "name": "stdout",
     "output_type": "stream",
     "text": [
      "train Loss: 0.0394 Acc: 0.9167\n"
     ]
    },
    {
     "name": "stderr",
     "output_type": "stream",
     "text": [
      "test epoch 10/20: 100%|██████████| 79/79 [00:04<00:00, 17.42batch/s, loss=0.0392]\n"
     ]
    },
    {
     "name": "stdout",
     "output_type": "stream",
     "text": [
      "Model saved to ./saved_models\\best_linearsvm_mnist_mnist.pth\n",
      "test Loss: 0.0392 Acc: 0.9187\n",
      "Epoch 10 completed in 22 seconds\n",
      "Epoch 11/20\n",
      "----------\n"
     ]
    },
    {
     "name": "stderr",
     "output_type": "stream",
     "text": [
      "train epoch 11/20: 100%|██████████| 469/469 [00:19<00:00, 23.63batch/s, loss=0.0387]\n"
     ]
    },
    {
     "name": "stdout",
     "output_type": "stream",
     "text": [
      "train Loss: 0.0387 Acc: 0.9185\n"
     ]
    },
    {
     "name": "stderr",
     "output_type": "stream",
     "text": [
      "test epoch 11/20: 100%|██████████| 79/79 [00:03<00:00, 24.16batch/s, loss=0.0387]\n"
     ]
    },
    {
     "name": "stdout",
     "output_type": "stream",
     "text": [
      "Model saved to ./saved_models\\best_linearsvm_mnist_mnist.pth\n",
      "test Loss: 0.0387 Acc: 0.9162\n",
      "Epoch 11 completed in 23 seconds\n",
      "Epoch 12/20\n",
      "----------\n"
     ]
    },
    {
     "name": "stderr",
     "output_type": "stream",
     "text": [
      "train epoch 12/20: 100%|██████████| 469/469 [00:20<00:00, 23.15batch/s, loss=0.0380]\n"
     ]
    },
    {
     "name": "stdout",
     "output_type": "stream",
     "text": [
      "train Loss: 0.0380 Acc: 0.9186\n"
     ]
    },
    {
     "name": "stderr",
     "output_type": "stream",
     "text": [
      "test epoch 12/20: 100%|██████████| 79/79 [00:04<00:00, 19.11batch/s, loss=0.0382]\n"
     ]
    },
    {
     "name": "stdout",
     "output_type": "stream",
     "text": [
      "Model saved to ./saved_models\\best_linearsvm_mnist_mnist.pth\n",
      "test Loss: 0.0382 Acc: 0.9197\n",
      "Epoch 12 completed in 24 seconds\n",
      "Epoch 13/20\n",
      "----------\n"
     ]
    },
    {
     "name": "stderr",
     "output_type": "stream",
     "text": [
      "train epoch 13/20: 100%|██████████| 469/469 [00:24<00:00, 19.17batch/s, loss=0.0375]\n"
     ]
    },
    {
     "name": "stdout",
     "output_type": "stream",
     "text": [
      "train Loss: 0.0375 Acc: 0.9197\n"
     ]
    },
    {
     "name": "stderr",
     "output_type": "stream",
     "text": [
      "test epoch 13/20: 100%|██████████| 79/79 [00:03<00:00, 20.95batch/s, loss=0.0379]\n"
     ]
    },
    {
     "name": "stdout",
     "output_type": "stream",
     "text": [
      "Model saved to ./saved_models\\best_linearsvm_mnist_mnist.pth\n",
      "test Loss: 0.0379 Acc: 0.9205\n",
      "Epoch 13 completed in 28 seconds\n",
      "Epoch 14/20\n",
      "----------\n"
     ]
    },
    {
     "name": "stderr",
     "output_type": "stream",
     "text": [
      "train epoch 14/20: 100%|██████████| 469/469 [00:24<00:00, 18.92batch/s, loss=0.0370]\n"
     ]
    },
    {
     "name": "stdout",
     "output_type": "stream",
     "text": [
      "train Loss: 0.0370 Acc: 0.9203\n"
     ]
    },
    {
     "name": "stderr",
     "output_type": "stream",
     "text": [
      "test epoch 14/20: 100%|██████████| 79/79 [00:05<00:00, 14.53batch/s, loss=0.0377]\n"
     ]
    },
    {
     "name": "stdout",
     "output_type": "stream",
     "text": [
      "Model saved to ./saved_models\\best_linearsvm_mnist_mnist.pth\n",
      "test Loss: 0.0377 Acc: 0.9208\n",
      "Epoch 14 completed in 30 seconds\n",
      "Epoch 15/20\n",
      "----------\n"
     ]
    },
    {
     "name": "stderr",
     "output_type": "stream",
     "text": [
      "train epoch 15/20: 100%|██████████| 469/469 [00:32<00:00, 14.25batch/s, loss=0.0366]\n"
     ]
    },
    {
     "name": "stdout",
     "output_type": "stream",
     "text": [
      "train Loss: 0.0366 Acc: 0.9211\n"
     ]
    },
    {
     "name": "stderr",
     "output_type": "stream",
     "text": [
      "test epoch 15/20: 100%|██████████| 79/79 [00:04<00:00, 17.54batch/s, loss=0.0376]\n"
     ]
    },
    {
     "name": "stdout",
     "output_type": "stream",
     "text": [
      "Model saved to ./saved_models\\best_linearsvm_mnist_mnist.pth\n",
      "test Loss: 0.0376 Acc: 0.9203\n",
      "Epoch 15 completed in 37 seconds\n",
      "Epoch 16/20\n",
      "----------\n"
     ]
    },
    {
     "name": "stderr",
     "output_type": "stream",
     "text": [
      "train epoch 16/20: 100%|██████████| 469/469 [00:29<00:00, 15.81batch/s, loss=0.0362]\n"
     ]
    },
    {
     "name": "stdout",
     "output_type": "stream",
     "text": [
      "train Loss: 0.0362 Acc: 0.9220\n"
     ]
    },
    {
     "name": "stderr",
     "output_type": "stream",
     "text": [
      "test epoch 16/20: 100%|██████████| 79/79 [00:04<00:00, 18.98batch/s, loss=0.0370]\n"
     ]
    },
    {
     "name": "stdout",
     "output_type": "stream",
     "text": [
      "Model saved to ./saved_models\\best_linearsvm_mnist_mnist.pth\n",
      "test Loss: 0.0370 Acc: 0.9207\n",
      "Epoch 16 completed in 34 seconds\n",
      "Epoch 17/20\n",
      "----------\n"
     ]
    },
    {
     "name": "stderr",
     "output_type": "stream",
     "text": [
      "train epoch 17/20: 100%|██████████| 469/469 [00:31<00:00, 14.69batch/s, loss=0.0359]\n"
     ]
    },
    {
     "name": "stdout",
     "output_type": "stream",
     "text": [
      "train Loss: 0.0359 Acc: 0.9221\n"
     ]
    },
    {
     "name": "stderr",
     "output_type": "stream",
     "text": [
      "test epoch 17/20: 100%|██████████| 79/79 [00:04<00:00, 17.21batch/s, loss=0.0369]\n"
     ]
    },
    {
     "name": "stdout",
     "output_type": "stream",
     "text": [
      "Model saved to ./saved_models\\best_linearsvm_mnist_mnist.pth\n",
      "test Loss: 0.0369 Acc: 0.9226\n",
      "Epoch 17 completed in 37 seconds\n",
      "Epoch 18/20\n",
      "----------\n"
     ]
    },
    {
     "name": "stderr",
     "output_type": "stream",
     "text": [
      "train epoch 18/20: 100%|██████████| 469/469 [00:28<00:00, 16.39batch/s, loss=0.0356]\n"
     ]
    },
    {
     "name": "stdout",
     "output_type": "stream",
     "text": [
      "train Loss: 0.0356 Acc: 0.9229\n"
     ]
    },
    {
     "name": "stderr",
     "output_type": "stream",
     "text": [
      "test epoch 18/20: 100%|██████████| 79/79 [00:04<00:00, 17.59batch/s, loss=0.0371]\n"
     ]
    },
    {
     "name": "stdout",
     "output_type": "stream",
     "text": [
      "test Loss: 0.0371 Acc: 0.9211\n",
      "Epoch 18 completed in 33 seconds\n",
      "Epoch 19/20\n",
      "----------\n"
     ]
    },
    {
     "name": "stderr",
     "output_type": "stream",
     "text": [
      "train epoch 19/20: 100%|██████████| 469/469 [00:30<00:00, 15.40batch/s, loss=0.0354]\n"
     ]
    },
    {
     "name": "stdout",
     "output_type": "stream",
     "text": [
      "train Loss: 0.0354 Acc: 0.9236\n"
     ]
    },
    {
     "name": "stderr",
     "output_type": "stream",
     "text": [
      "test epoch 19/20: 100%|██████████| 79/79 [00:06<00:00, 12.64batch/s, loss=0.0366]\n"
     ]
    },
    {
     "name": "stdout",
     "output_type": "stream",
     "text": [
      "Model saved to ./saved_models\\best_linearsvm_mnist_mnist.pth\n",
      "test Loss: 0.0366 Acc: 0.9209\n",
      "Epoch 19 completed in 37 seconds\n",
      "Epoch 20/20\n",
      "----------\n"
     ]
    },
    {
     "name": "stderr",
     "output_type": "stream",
     "text": [
      "train epoch 20/20: 100%|██████████| 469/469 [00:28<00:00, 16.28batch/s, loss=0.0351]\n"
     ]
    },
    {
     "name": "stdout",
     "output_type": "stream",
     "text": [
      "train Loss: 0.0351 Acc: 0.9237\n"
     ]
    },
    {
     "name": "stderr",
     "output_type": "stream",
     "text": [
      "test epoch 20/20: 100%|██████████| 79/79 [00:07<00:00, 10.32batch/s, loss=0.0367]\n"
     ]
    },
    {
     "name": "stdout",
     "output_type": "stream",
     "text": [
      "test Loss: 0.0367 Acc: 0.9224\n",
      "Epoch 20 completed in 36 seconds\n",
      "Training complete in 7m 60s\n",
      "Best test Acc: 0.9226\n",
      "Best test Loss: 0.0366\n"
     ]
    },
    {
     "data": {
      "image/png": "[encoded data removed]",
      "text/plain": [
       "<Figure size 1200x400 with 2 Axes>"
      ]
     },
     "metadata": {},
     "output_type": "display_data"
    },
    {
     "name": "stderr",
     "output_type": "stream",
     "text": [
      "Evaluating: 100%|██████████| 79/79 [00:04<00:00, 16.36batch/s]\n"
     ]
    },
    {
     "name": "stdout",
     "output_type": "stream",
     "text": [
      "Evaluation Results:\n",
      "Top-1 Accuracy: 92.26%\n",
      "Top-1 Error: 7.74%\n",
      "Top-5 Accuracy: 99.64%\n",
      "Top-5 Error: 0.36%\n",
      "Time taken for evaluation: 4.83 seconds\n",
      "              precision    recall  f1-score   support\n",
      "\n",
      "           0       0.96      0.97      0.96       980\n",
      "           1       0.97      0.98      0.97      1135\n",
      "           2       0.93      0.89      0.91      1032\n",
      "           3       0.90      0.91      0.90      1010\n",
      "           4       0.93      0.93      0.93       982\n",
      "           5       0.91      0.86      0.88       892\n",
      "           6       0.92      0.96      0.94       958\n",
      "           7       0.93      0.92      0.93      1028\n",
      "           8       0.87      0.90      0.88       974\n",
      "           9       0.91      0.91      0.91      1009\n",
      "\n",
      "    accuracy                           0.92     10000\n",
      "   macro avg       0.92      0.92      0.92     10000\n",
      "weighted avg       0.92      0.92      0.92     10000\n",
      "\n"
     ]
    },
    {
     "data": {
      "image/png": "[encoded data removed]",
      "text/plain": [
       "<Figure size 1000x800 with 2 Axes>"
      ]
     },
     "metadata": {},
     "output_type": "display_data"
    },
    {
     "name": "stdout",
     "output_type": "stream",
     "text": [
      "\n",
      "========================================\n",
      " LinearSVM TRAINING COMPLETE \n",
      "========================================\n",
      "\n",
      "\n",
      "========================================\n",
      " RUNNING TRAINING FOR LeNet ON MNIST \n",
      "========================================\n",
      "\n",
      "Running LeNet with args: Namespace(train_dir=None, test_dir=None, mnist_data_dir='./mnist_data', input_size=28, batch_size=128, num_epochs=20, learning_rate=0.001, model_name='lenet', pretrained=False, save_path='./saved_models\\\\best_lenet_mnist.pth', criterion='cross_entropy', optimizer='adam', scheduler='cosine', num_warmup_steps=0, model_type='large', dropout_rate=0.4, use_class_weights=False, weight_type='inverse')\n",
      "Using device: cpu\n",
      "MNIST Data Prepared:\n",
      "Number of classes: 10\n",
      "Train set size: 60000\n",
      "Test set size: 10000\n",
      "Dataset sizes: {'train': 60000, 'test': 10000}\n",
      "Class names: ['0', '1', '2', '3', '4', '5', '6', '7', '8', '9']\n",
      "Model: LeNet(\n",
      "  (conv1): Conv2d(1, 6, kernel_size=(5, 5), stride=(1, 1), padding=(2, 2))\n",
      "  (maxpool1): MaxPool2d(kernel_size=2, stride=2, padding=0, dilation=1, ceil_mode=False)\n",
      "  (conv2): Conv2d(6, 16, kernel_size=(5, 5), stride=(1, 1))\n",
      "  (maxpool2): MaxPool2d(kernel_size=2, stride=2, padding=0, dilation=1, ceil_mode=False)\n",
      "  (conv3): Conv2d(16, 120, kernel_size=(5, 5), stride=(1, 1))\n",
      "  (fc1): Linear(in_features=120, out_features=84, bias=True)\n",
      "  (fc2): Linear(in_features=84, out_features=10, bias=True)\n",
      ")\n",
      "Epoch 1/20\n",
      "----------\n"
     ]
    },
    {
     "name": "stderr",
     "output_type": "stream",
     "text": [
      "train epoch 1/20: 100%|██████████| 469/469 [00:34<00:00, 13.40batch/s, loss=0.9543]\n"
     ]
    },
    {
     "name": "stdout",
     "output_type": "stream",
     "text": [
      "train Loss: 0.9543 Acc: 0.7490\n"
     ]
    },
    {
     "name": "stderr",
     "output_type": "stream",
     "text": [
      "test epoch 1/20: 100%|██████████| 79/79 [00:08<00:00,  9.40batch/s, loss=0.3472]\n"
     ]
    },
    {
     "name": "stdout",
     "output_type": "stream",
     "text": [
      "Model saved to ./saved_models\\best_lenet_mnist.pth\n",
      "test Loss: 0.3472 Acc: 0.9010\n",
      "Epoch 1 completed in 43 seconds\n",
      "Epoch 2/20\n",
      "----------\n"
     ]
    },
    {
     "name": "stderr",
     "output_type": "stream",
     "text": [
      "train epoch 2/20: 100%|██████████| 469/469 [00:56<00:00,  8.30batch/s, loss=0.2838]\n"
     ]
    },
    {
     "name": "stdout",
     "output_type": "stream",
     "text": [
      "train Loss: 0.2838 Acc: 0.9164\n"
     ]
    },
    {
     "name": "stderr",
     "output_type": "stream",
     "text": [
      "test epoch 2/20: 100%|██████████| 79/79 [00:07<00:00, 11.10batch/s, loss=0.2294]\n"
     ]
    },
    {
     "name": "stdout",
     "output_type": "stream",
     "text": [
      "Model saved to ./saved_models\\best_lenet_mnist.pth\n",
      "test Loss: 0.2294 Acc: 0.9344\n",
      "Epoch 2 completed in 64 seconds\n",
      "Epoch 3/20\n",
      "----------\n"
     ]
    },
    {
     "name": "stderr",
     "output_type": "stream",
     "text": [
      "train epoch 3/20: 100%|██████████| 469/469 [00:44<00:00, 10.63batch/s, loss=0.2038]\n"
     ]
    },
    {
     "name": "stdout",
     "output_type": "stream",
     "text": [
      "train Loss: 0.2038 Acc: 0.9384\n"
     ]
    },
    {
     "name": "stderr",
     "output_type": "stream",
     "text": [
      "test epoch 3/20: 100%|██████████| 79/79 [00:03<00:00, 21.36batch/s, loss=0.1631]\n"
     ]
    },
    {
     "name": "stdout",
     "output_type": "stream",
     "text": [
      "Model saved to ./saved_models\\best_lenet_mnist.pth\n",
      "test Loss: 0.1631 Acc: 0.9501\n",
      "Epoch 3 completed in 48 seconds\n",
      "Epoch 4/20\n",
      "----------\n"
     ]
    },
    {
     "name": "stderr",
     "output_type": "stream",
     "text": [
      "train epoch 4/20: 100%|██████████| 469/469 [00:26<00:00, 17.94batch/s, loss=0.1579]\n"
     ]
    },
    {
     "name": "stdout",
     "output_type": "stream",
     "text": [
      "train Loss: 0.1579 Acc: 0.9527\n"
     ]
    },
    {
     "name": "stderr",
     "output_type": "stream",
     "text": [
      "test epoch 4/20: 100%|██████████| 79/79 [00:03<00:00, 20.30batch/s, loss=0.1314]\n"
     ]
    },
    {
     "name": "stdout",
     "output_type": "stream",
     "text": [
      "Model saved to ./saved_models\\best_lenet_mnist.pth\n",
      "test Loss: 0.1314 Acc: 0.9621\n",
      "Epoch 4 completed in 30 seconds\n",
      "Epoch 5/20\n",
      "----------\n"
     ]
    },
    {
     "name": "stderr",
     "output_type": "stream",
     "text": [
      "train epoch 5/20: 100%|██████████| 469/469 [00:28<00:00, 16.22batch/s, loss=0.1289]\n"
     ]
    },
    {
     "name": "stdout",
     "output_type": "stream",
     "text": [
      "train Loss: 0.1289 Acc: 0.9607\n"
     ]
    },
    {
     "name": "stderr",
     "output_type": "stream",
     "text": [
      "test epoch 5/20: 100%|██████████| 79/79 [00:04<00:00, 18.95batch/s, loss=0.1031]\n"
     ]
    },
    {
     "name": "stdout",
     "output_type": "stream",
     "text": [
      "Model saved to ./saved_models\\best_lenet_mnist.pth\n",
      "test Loss: 0.1031 Acc: 0.9680\n",
      "Epoch 5 completed in 33 seconds\n",
      "Epoch 6/20\n",
      "----------\n"
     ]
    },
    {
     "name": "stderr",
     "output_type": "stream",
     "text": [
      "train epoch 6/20: 100%|██████████| 469/469 [00:28<00:00, 16.72batch/s, loss=0.1098]\n"
     ]
    },
    {
     "name": "stdout",
     "output_type": "stream",
     "text": [
      "train Loss: 0.1098 Acc: 0.9674\n"
     ]
    },
    {
     "name": "stderr",
     "output_type": "stream",
     "text": [
      "test epoch 6/20: 100%|██████████| 79/79 [00:03<00:00, 23.52batch/s, loss=0.0884]\n"
     ]
    },
    {
     "name": "stdout",
     "output_type": "stream",
     "text": [
      "Model saved to ./saved_models\\best_lenet_mnist.pth\n",
      "test Loss: 0.0884 Acc: 0.9720\n",
      "Epoch 6 completed in 31 seconds\n",
      "Epoch 7/20\n",
      "----------\n"
     ]
    },
    {
     "name": "stderr",
     "output_type": "stream",
     "text": [
      "train epoch 7/20: 100%|██████████| 469/469 [00:27<00:00, 17.19batch/s, loss=0.0959]\n"
     ]
    },
    {
     "name": "stdout",
     "output_type": "stream",
     "text": [
      "train Loss: 0.0959 Acc: 0.9705\n"
     ]
    },
    {
     "name": "stderr",
     "output_type": "stream",
     "text": [
      "test epoch 7/20: 100%|██████████| 79/79 [00:03<00:00, 20.77batch/s, loss=0.0779]\n"
     ]
    },
    {
     "name": "stdout",
     "output_type": "stream",
     "text": [
      "Model saved to ./saved_models\\best_lenet_mnist.pth\n",
      "test Loss: 0.0779 Acc: 0.9752\n",
      "Epoch 7 completed in 31 seconds\n",
      "Epoch 8/20\n",
      "----------\n"
     ]
    },
    {
     "name": "stderr",
     "output_type": "stream",
     "text": [
      "train epoch 8/20: 100%|██████████| 469/469 [00:26<00:00, 18.00batch/s, loss=0.0848]\n"
     ]
    },
    {
     "name": "stdout",
     "output_type": "stream",
     "text": [
      "train Loss: 0.0848 Acc: 0.9742\n"
     ]
    },
    {
     "name": "stderr",
     "output_type": "stream",
     "text": [
      "test epoch 8/20: 100%|██████████| 79/79 [00:03<00:00, 24.51batch/s, loss=0.0796]\n"
     ]
    },
    {
     "name": "stdout",
     "output_type": "stream",
     "text": [
      "test Loss: 0.0796 Acc: 0.9756\n",
      "Epoch 8 completed in 29 seconds\n",
      "Epoch 9/20\n",
      "----------\n"
     ]
    },
    {
     "name": "stderr",
     "output_type": "stream",
     "text": [
      "train epoch 9/20: 100%|██████████| 469/469 [00:28<00:00, 16.45batch/s, loss=0.0775]\n"
     ]
    },
    {
     "name": "stdout",
     "output_type": "stream",
     "text": [
      "train Loss: 0.0775 Acc: 0.9765\n"
     ]
    },
    {
     "name": "stderr",
     "output_type": "stream",
     "text": [
      "test epoch 9/20: 100%|██████████| 79/79 [00:04<00:00, 17.60batch/s, loss=0.0664]\n"
     ]
    },
    {
     "name": "stdout",
     "output_type": "stream",
     "text": [
      "Model saved to ./saved_models\\best_lenet_mnist.pth\n",
      "test Loss: 0.0664 Acc: 0.9782\n",
      "Epoch 9 completed in 33 seconds\n",
      "Epoch 10/20\n",
      "----------\n"
     ]
    },
    {
     "name": "stderr",
     "output_type": "stream",
     "text": [
      "train epoch 10/20: 100%|██████████| 469/469 [00:32<00:00, 14.48batch/s, loss=0.0709]\n"
     ]
    },
    {
     "name": "stdout",
     "output_type": "stream",
     "text": [
      "train Loss: 0.0709 Acc: 0.9780\n"
     ]
    },
    {
     "name": "stderr",
     "output_type": "stream",
     "text": [
      "test epoch 10/20: 100%|██████████| 79/79 [00:04<00:00, 19.33batch/s, loss=0.0590]\n"
     ]
    },
    {
     "name": "stdout",
     "output_type": "stream",
     "text": [
      "Model saved to ./saved_models\\best_lenet_mnist.pth\n",
      "test Loss: 0.0590 Acc: 0.9809\n",
      "Epoch 10 completed in 37 seconds\n",
      "Epoch 11/20\n",
      "----------\n"
     ]
    },
    {
     "name": "stderr",
     "output_type": "stream",
     "text": [
      "train epoch 11/20: 100%|██████████| 469/469 [00:24<00:00, 19.19batch/s, loss=0.0657]\n"
     ]
    },
    {
     "name": "stdout",
     "output_type": "stream",
     "text": [
      "train Loss: 0.0657 Acc: 0.9798\n"
     ]
    },
    {
     "name": "stderr",
     "output_type": "stream",
     "text": [
      "test epoch 11/20: 100%|██████████| 79/79 [00:03<00:00, 23.73batch/s, loss=0.0570]\n"
     ]
    },
    {
     "name": "stdout",
     "output_type": "stream",
     "text": [
      "Model saved to ./saved_models\\best_lenet_mnist.pth\n",
      "test Loss: 0.0570 Acc: 0.9814\n",
      "Epoch 11 completed in 28 seconds\n",
      "Epoch 12/20\n",
      "----------\n"
     ]
    },
    {
     "name": "stderr",
     "output_type": "stream",
     "text": [
      "train epoch 12/20: 100%|██████████| 469/469 [00:25<00:00, 18.60batch/s, loss=0.0605]\n"
     ]
    },
    {
     "name": "stdout",
     "output_type": "stream",
     "text": [
      "train Loss: 0.0605 Acc: 0.9811\n"
     ]
    },
    {
     "name": "stderr",
     "output_type": "stream",
     "text": [
      "test epoch 12/20: 100%|██████████| 79/79 [00:03<00:00, 25.08batch/s, loss=0.0517]\n"
     ]
    },
    {
     "name": "stdout",
     "output_type": "stream",
     "text": [
      "Model saved to ./saved_models\\best_lenet_mnist.pth\n",
      "test Loss: 0.0517 Acc: 0.9825\n",
      "Epoch 12 completed in 28 seconds\n",
      "Epoch 13/20\n",
      "----------\n"
     ]
    },
    {
     "name": "stderr",
     "output_type": "stream",
     "text": [
      "train epoch 13/20: 100%|██████████| 469/469 [00:24<00:00, 19.36batch/s, loss=0.0564]\n"
     ]
    },
    {
     "name": "stdout",
     "output_type": "stream",
     "text": [
      "train Loss: 0.0564 Acc: 0.9824\n"
     ]
    },
    {
     "name": "stderr",
     "output_type": "stream",
     "text": [
      "test epoch 13/20: 100%|██████████| 79/79 [00:03<00:00, 23.04batch/s, loss=0.0537]\n"
     ]
    },
    {
     "name": "stdout",
     "output_type": "stream",
     "text": [
      "test Loss: 0.0537 Acc: 0.9817\n",
      "Epoch 13 completed in 28 seconds\n",
      "Epoch 14/20\n",
      "----------\n"
     ]
    },
    {
     "name": "stderr",
     "output_type": "stream",
     "text": [
      "train epoch 14/20: 100%|██████████| 469/469 [00:25<00:00, 18.53batch/s, loss=0.0537]\n"
     ]
    },
    {
     "name": "stdout",
     "output_type": "stream",
     "text": [
      "train Loss: 0.0537 Acc: 0.9825\n"
     ]
    },
    {
     "name": "stderr",
     "output_type": "stream",
     "text": [
      "test epoch 14/20: 100%|██████████| 79/79 [00:03<00:00, 25.32batch/s, loss=0.0509]\n"
     ]
    },
    {
     "name": "stdout",
     "output_type": "stream",
     "text": [
      "Model saved to ./saved_models\\best_lenet_mnist.pth\n",
      "test Loss: 0.0509 Acc: 0.9832\n",
      "Epoch 14 completed in 28 seconds\n",
      "Epoch 15/20\n",
      "----------\n"
     ]
    },
    {
     "name": "stderr",
     "output_type": "stream",
     "text": [
      "train epoch 15/20: 100%|██████████| 469/469 [00:23<00:00, 19.81batch/s, loss=0.0502]\n"
     ]
    },
    {
     "name": "stdout",
     "output_type": "stream",
     "text": [
      "train Loss: 0.0502 Acc: 0.9845\n"
     ]
    },
    {
     "name": "stderr",
     "output_type": "stream",
     "text": [
      "test epoch 15/20: 100%|██████████| 79/79 [00:03<00:00, 25.70batch/s, loss=0.0482]\n"
     ]
    },
    {
     "name": "stdout",
     "output_type": "stream",
     "text": [
      "Model saved to ./saved_models\\best_lenet_mnist.pth\n",
      "test Loss: 0.0482 Acc: 0.9831\n",
      "Epoch 15 completed in 27 seconds\n",
      "Epoch 16/20\n",
      "----------\n"
     ]
    },
    {
     "name": "stderr",
     "output_type": "stream",
     "text": [
      "train epoch 16/20: 100%|██████████| 469/469 [00:25<00:00, 18.75batch/s, loss=0.0483]\n"
     ]
    },
    {
     "name": "stdout",
     "output_type": "stream",
     "text": [
      "train Loss: 0.0483 Acc: 0.9849\n"
     ]
    },
    {
     "name": "stderr",
     "output_type": "stream",
     "text": [
      "test epoch 16/20: 100%|██████████| 79/79 [00:02<00:00, 26.90batch/s, loss=0.0450]\n"
     ]
    },
    {
     "name": "stdout",
     "output_type": "stream",
     "text": [
      "Model saved to ./saved_models\\best_lenet_mnist.pth\n",
      "test Loss: 0.0450 Acc: 0.9848\n",
      "Epoch 16 completed in 28 seconds\n",
      "Epoch 17/20\n",
      "----------\n"
     ]
    },
    {
     "name": "stderr",
     "output_type": "stream",
     "text": [
      "train epoch 17/20: 100%|██████████| 469/469 [00:23<00:00, 19.84batch/s, loss=0.0452]\n"
     ]
    },
    {
     "name": "stdout",
     "output_type": "stream",
     "text": [
      "train Loss: 0.0452 Acc: 0.9862\n"
     ]
    },
    {
     "name": "stderr",
     "output_type": "stream",
     "text": [
      "test epoch 17/20: 100%|██████████| 79/79 [00:02<00:00, 26.64batch/s, loss=0.0434]\n"
     ]
    },
    {
     "name": "stdout",
     "output_type": "stream",
     "text": [
      "Model saved to ./saved_models\\best_lenet_mnist.pth\n",
      "test Loss: 0.0434 Acc: 0.9854\n",
      "Epoch 17 completed in 27 seconds\n",
      "Epoch 18/20\n",
      "----------\n"
     ]
    },
    {
     "name": "stderr",
     "output_type": "stream",
     "text": [
      "train epoch 18/20: 100%|██████████| 469/469 [00:24<00:00, 19.23batch/s, loss=0.0436]\n"
     ]
    },
    {
     "name": "stdout",
     "output_type": "stream",
     "text": [
      "train Loss: 0.0436 Acc: 0.9865\n"
     ]
    },
    {
     "name": "stderr",
     "output_type": "stream",
     "text": [
      "test epoch 18/20: 100%|██████████| 79/79 [00:02<00:00, 27.84batch/s, loss=0.0395]\n"
     ]
    },
    {
     "name": "stdout",
     "output_type": "stream",
     "text": [
      "Model saved to ./saved_models\\best_lenet_mnist.pth\n",
      "test Loss: 0.0395 Acc: 0.9874\n",
      "Epoch 18 completed in 27 seconds\n",
      "Epoch 19/20\n",
      "----------\n"
     ]
    },
    {
     "name": "stderr",
     "output_type": "stream",
     "text": [
      "train epoch 19/20: 100%|██████████| 469/469 [00:24<00:00, 19.25batch/s, loss=0.0407]\n"
     ]
    },
    {
     "name": "stdout",
     "output_type": "stream",
     "text": [
      "train Loss: 0.0407 Acc: 0.9875\n"
     ]
    },
    {
     "name": "stderr",
     "output_type": "stream",
     "text": [
      "test epoch 19/20: 100%|██████████| 79/79 [00:03<00:00, 24.34batch/s, loss=0.0398]\n"
     ]
    },
    {
     "name": "stdout",
     "output_type": "stream",
     "text": [
      "test Loss: 0.0398 Acc: 0.9862\n",
      "Epoch 19 completed in 28 seconds\n",
      "Epoch 20/20\n",
      "----------\n"
     ]
    },
    {
     "name": "stderr",
     "output_type": "stream",
     "text": [
      "train epoch 20/20: 100%|██████████| 469/469 [00:25<00:00, 18.65batch/s, loss=0.0398]\n"
     ]
    },
    {
     "name": "stdout",
     "output_type": "stream",
     "text": [
      "train Loss: 0.0398 Acc: 0.9876\n"
     ]
    },
    {
     "name": "stderr",
     "output_type": "stream",
     "text": [
      "test epoch 20/20: 100%|██████████| 79/79 [00:03<00:00, 23.78batch/s, loss=0.0390]\n"
     ]
    },
    {
     "name": "stdout",
     "output_type": "stream",
     "text": [
      "Model saved to ./saved_models\\best_lenet_mnist.pth\n",
      "test Loss: 0.0390 Acc: 0.9866\n",
      "Epoch 20 completed in 29 seconds\n",
      "Training complete in 10m 57s\n",
      "Best test Acc: 0.9874\n",
      "Best test Loss: 0.0390\n"
     ]
    },
    {
     "data": {
      "image/png": "[encoded data removed]",
      "text/plain": [
       "<Figure size 1200x400 with 2 Axes>"
      ]
     },
     "metadata": {},
     "output_type": "display_data"
    },
    {
     "name": "stderr",
     "output_type": "stream",
     "text": [
      "Evaluating: 100%|██████████| 79/79 [00:03<00:00, 23.07batch/s]\n"
     ]
    },
    {
     "name": "stdout",
     "output_type": "stream",
     "text": [
      "Evaluation Results:\n",
      "Top-1 Accuracy: 98.74%\n",
      "Top-1 Error: 1.26%\n",
      "Top-5 Accuracy: 99.99%\n",
      "Top-5 Error: 0.01%\n",
      "Time taken for evaluation: 3.43 seconds\n",
      "              precision    recall  f1-score   support\n",
      "\n",
      "           0       0.99      0.99      0.99       980\n",
      "           1       0.99      1.00      0.99      1135\n",
      "           2       0.99      0.99      0.99      1032\n",
      "           3       0.99      0.99      0.99      1010\n",
      "           4       0.99      0.99      0.99       982\n",
      "           5       0.99      0.98      0.99       892\n",
      "           6       0.98      0.99      0.99       958\n",
      "           7       0.99      0.99      0.99      1028\n",
      "           8       0.98      0.98      0.98       974\n",
      "           9       0.99      0.98      0.98      1009\n",
      "\n",
      "    accuracy                           0.99     10000\n",
      "   macro avg       0.99      0.99      0.99     10000\n",
      "weighted avg       0.99      0.99      0.99     10000\n",
      "\n"
     ]
    },
    {
     "data": {
      "image/png": "[encoded data removed]",
      "text/plain": [
       "<Figure size 1000x800 with 2 Axes>"
      ]
     },
     "metadata": {},
     "output_type": "display_data"
    },
    {
     "name": "stdout",
     "output_type": "stream",
     "text": [
      "\n",
      "========================================\n",
      " LeNet TRAINING COMPLETE \n",
      "========================================\n",
      "\n",
      "All training sessions complete.\n",
      "Check ./saved_models for saved models and outputs/plots generated by train.py.\n"
     ]
    }
   ],
   "source": [
    "\n",
    "import os\n",
    "from train import main as run_training_script\n",
    "from train import parse_args\n",
    "\n",
    "MNIST_DATA_DIR = './mnist_data'\n",
    "SAVE_DIR = './saved_models'\n",
    "\n",
    "if not os.path.exists(SAVE_DIR):\n",
    "    os.makedirs(SAVE_DIR)\n",
    "if not os.path.exists(MNIST_DATA_DIR): \n",
    "    os.makedirs(MNIST_DATA_DIR)\n",
    "\n",
    "print(f\"MNIST data will be stored/looked for in: {MNIST_DATA_DIR}\")\n",
    "print(f\"Saved models will be stored in: {SAVE_DIR}\")\n",
    "\n",
    "def get_arg_list(model_name, criterion, epochs=5, lr=0.001, batch_size=64, scheduler='cosine', input_size=28):\n",
    "    save_path = os.path.join(SAVE_DIR, f'best_{model_name}_mnist.pth')\n",
    "    args = [\n",
    "        '--mnist_data_dir', MNIST_DATA_DIR,\n",
    "        '--model_name', model_name,\n",
    "        '--criterion', criterion,\n",
    "        '--num_epochs', str(epochs),\n",
    "        '--learning_rate', str(lr),\n",
    "        '--batch_size', str(batch_size),\n",
    "        '--input_size', str(input_size), \n",
    "        '--save_path', save_path,\n",
    "        '--optimizer', 'adam',\n",
    "        '--scheduler', scheduler, \n",
    "    ]\n",
    "    return args\n",
    "\n",
    "# --- 1. Training LinearSVM cho MNIST ---\n",
    "print(\"\\n\" + \"=\"*40)\n",
    "print(\" RUNNING TRAINING FOR LinearSVM ON MNIST \")\n",
    "print(\"=\"*40 + \"\\n\")\n",
    "\n",
    "svm_arg_strings = get_arg_list(\n",
    "    model_name='linearsvm_mnist',\n",
    "    criterion='hinge', \n",
    "    epochs=20,\n",
    "    lr=0.001,\n",
    "    batch_size=128,\n",
    "    scheduler='cosine',\n",
    "    input_size=28      \n",
    ")\n",
    "parsed_svm_args = parse_args(svm_arg_strings)\n",
    "print(f\"Running LinearSVM with args: {parsed_svm_args}\")\n",
    "run_training_script(parsed_svm_args)\n",
    "\n",
    "print(\"\\n\" + \"=\"*40)\n",
    "print(\" LinearSVM TRAINING COMPLETE \")\n",
    "print(\"=\"*40 + \"\\n\")\n",
    "\n",
    "\n",
    "# --- 2. Training LeNet cho MNIST ---\n",
    "print(\"\\n\" + \"=\"*40)\n",
    "print(\" RUNNING TRAINING FOR LeNet ON MNIST \")\n",
    "print(\"=\"*40 + \"\\n\")\n",
    "\n",
    "lenet_arg_strings = get_arg_list(\n",
    "    model_name='lenet',\n",
    "    criterion='cross_entropy', \n",
    "    epochs=20,\n",
    "    lr=0.001,\n",
    "    batch_size=128,\n",
    "    scheduler='cosine',\n",
    "    input_size=28 \n",
    ")\n",
    "parsed_lenet_args = parse_args(lenet_arg_strings)\n",
    "print(f\"Running LeNet with args: {parsed_lenet_args}\")\n",
    "run_training_script(parsed_lenet_args)\n",
    "\n",
    "print(\"\\n\" + \"=\"*40)\n",
    "print(\" LeNet TRAINING COMPLETE \")\n",
    "print(\"=\"*40 + \"\\n\")\n",
    "\n",
    "print(\"All training sessions complete.\")\n",
    "print(f\"Check {SAVE_DIR} for saved models and outputs/plots generated by train.py.\")\n"
   ]
  }
 ],
 "metadata": {
  "kernelspec": {
   "display_name": ".venv",
   "language": "python",
   "name": "python3"
  },
  "language_info": {
   "codemirror_mode": {
    "name": "ipython",
    "version": 3
   },
   "file_extension": ".py",
   "mimetype": "text/x-python",
   "name": "python",
   "nbconvert_exporter": "python",
   "pygments_lexer": "ipython3",
   "version": "3.13.0"
  }
 },
 "nbformat": 4,
 "nbformat_minor": 5
}
