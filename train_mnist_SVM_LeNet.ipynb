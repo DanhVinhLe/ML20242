{
 "cells": [
  {
   "cell_type": "code",
   "execution_count": 1,
   "id": "f3279322",
   "metadata": {},
   "outputs": [
    {
     "name": "stdout",
     "output_type": "stream",
     "text": [
      "MNIST data will be stored/looked for in: ./mnist_data\n",
      "Saved models will be stored in: ./saved_models\n",
      "\n",
      "========================================\n",
      " RUNNING TRAINING FOR LinearSVM ON MNIST \n",
      "========================================\n",
      "\n",
      "Running LinearSVM with args: Namespace(train_dir=None, test_dir=None, mnist_data_dir='./mnist_data', input_size=28, batch_size=128, num_epochs=20, learning_rate=0.001, model_name='linearsvm_mnist', pretrained=False, save_path='./saved_models\\\\best_linearsvm_mnist_mnist.pth', criterion='hinge', optimizer='adam', scheduler='cosine', num_warmup_steps=0, model_type='large', dropout_rate=0.4, use_class_weights=False, weight_type='inverse')\n",
      "Using device: cuda\n",
      "MNIST Data Prepared:\n",
      "Number of classes: 10\n",
      "Train set size: 60000\n",
      "Test set size: 10000\n",
      "Dataset sizes: {'train': 60000, 'test': 10000}\n",
      "Class names: ['0', '1', '2', '3', '4', '5', '6', '7', '8', '9']\n",
      "Model: LinearSVM(\n",
      "  (linear): Linear(in_features=784, out_features=10, bias=True)\n",
      ")\n",
      "Epoch 1/20\n",
      "----------\n"
     ]
    },
    {
     "name": "stderr",
     "output_type": "stream",
     "text": [
      "train epoch 1/20: 100%|██████████| 469/469 [00:19<00:00, 23.62batch/s, loss=0.0667]\n"
     ]
    },
    {
     "name": "stdout",
     "output_type": "stream",
     "text": [
      "train Loss: 0.0667 Acc: 0.8745\n"
     ]
    },
    {
     "name": "stderr",
     "output_type": "stream",
     "text": [
      "test epoch 1/20: 100%|██████████| 79/79 [00:02<00:00, 26.89batch/s, loss=0.0416]\n"
     ]
    },
    {
     "name": "stdout",
     "output_type": "stream",
     "text": [
      "Model saved to ./saved_models\\best_linearsvm_mnist_mnist.pth\n",
      "test Loss: 0.0416 Acc: 0.9102\n",
      "Epoch 1 completed in 23 seconds\n",
      "Epoch 2/20\n",
      "----------\n"
     ]
    },
    {
     "name": "stderr",
     "output_type": "stream",
     "text": [
      "train epoch 2/20: 100%|██████████| 469/469 [00:19<00:00, 24.38batch/s, loss=0.0418]\n"
     ]
    },
    {
     "name": "stdout",
     "output_type": "stream",
     "text": [
      "train Loss: 0.0418 Acc: 0.9112\n"
     ]
    },
    {
     "name": "stderr",
     "output_type": "stream",
     "text": [
      "test epoch 2/20: 100%|██████████| 79/79 [00:03<00:00, 25.92batch/s, loss=0.0415]\n"
     ]
    },
    {
     "name": "stdout",
     "output_type": "stream",
     "text": [
      "Model saved to ./saved_models\\best_linearsvm_mnist_mnist.pth\n",
      "test Loss: 0.0415 Acc: 0.9124\n",
      "Epoch 2 completed in 22 seconds\n",
      "Epoch 3/20\n",
      "----------\n"
     ]
    },
    {
     "name": "stderr",
     "output_type": "stream",
     "text": [
      "train epoch 3/20: 100%|██████████| 469/469 [00:19<00:00, 23.76batch/s, loss=0.0394]\n"
     ]
    },
    {
     "name": "stdout",
     "output_type": "stream",
     "text": [
      "train Loss: 0.0394 Acc: 0.9145\n"
     ]
    },
    {
     "name": "stderr",
     "output_type": "stream",
     "text": [
      "test epoch 3/20: 100%|██████████| 79/79 [00:03<00:00, 25.40batch/s, loss=0.0392]\n"
     ]
    },
    {
     "name": "stdout",
     "output_type": "stream",
     "text": [
      "Model saved to ./saved_models\\best_linearsvm_mnist_mnist.pth\n",
      "test Loss: 0.0392 Acc: 0.9168\n",
      "Epoch 3 completed in 23 seconds\n",
      "Epoch 4/20\n",
      "----------\n"
     ]
    },
    {
     "name": "stderr",
     "output_type": "stream",
     "text": [
      "train epoch 4/20: 100%|██████████| 469/469 [00:18<00:00, 24.93batch/s, loss=0.0380]\n"
     ]
    },
    {
     "name": "stdout",
     "output_type": "stream",
     "text": [
      "train Loss: 0.0380 Acc: 0.9169\n"
     ]
    },
    {
     "name": "stderr",
     "output_type": "stream",
     "text": [
      "test epoch 4/20: 100%|██████████| 79/79 [00:02<00:00, 26.69batch/s, loss=0.0397]\n"
     ]
    },
    {
     "name": "stdout",
     "output_type": "stream",
     "text": [
      "test Loss: 0.0397 Acc: 0.9132\n",
      "Epoch 4 completed in 22 seconds\n",
      "Epoch 5/20\n",
      "----------\n"
     ]
    },
    {
     "name": "stderr",
     "output_type": "stream",
     "text": [
      "train epoch 5/20: 100%|██████████| 469/469 [00:19<00:00, 24.53batch/s, loss=0.0370]\n"
     ]
    },
    {
     "name": "stdout",
     "output_type": "stream",
     "text": [
      "train Loss: 0.0370 Acc: 0.9191\n"
     ]
    },
    {
     "name": "stderr",
     "output_type": "stream",
     "text": [
      "test epoch 5/20: 100%|██████████| 79/79 [00:03<00:00, 25.07batch/s, loss=0.0383]\n"
     ]
    },
    {
     "name": "stdout",
     "output_type": "stream",
     "text": [
      "Model saved to ./saved_models\\best_linearsvm_mnist_mnist.pth\n",
      "test Loss: 0.0383 Acc: 0.9165\n",
      "Epoch 5 completed in 22 seconds\n",
      "Epoch 6/20\n",
      "----------\n"
     ]
    },
    {
     "name": "stderr",
     "output_type": "stream",
     "text": [
      "train epoch 6/20: 100%|██████████| 469/469 [00:18<00:00, 25.12batch/s, loss=0.0362]\n"
     ]
    },
    {
     "name": "stdout",
     "output_type": "stream",
     "text": [
      "train Loss: 0.0362 Acc: 0.9201\n"
     ]
    },
    {
     "name": "stderr",
     "output_type": "stream",
     "text": [
      "test epoch 6/20: 100%|██████████| 79/79 [00:03<00:00, 26.26batch/s, loss=0.0375]\n"
     ]
    },
    {
     "name": "stdout",
     "output_type": "stream",
     "text": [
      "Model saved to ./saved_models\\best_linearsvm_mnist_mnist.pth\n",
      "test Loss: 0.0375 Acc: 0.9169\n",
      "Epoch 6 completed in 22 seconds\n",
      "Epoch 7/20\n",
      "----------\n"
     ]
    },
    {
     "name": "stderr",
     "output_type": "stream",
     "text": [
      "train epoch 7/20: 100%|██████████| 469/469 [00:19<00:00, 24.39batch/s, loss=0.0353]\n"
     ]
    },
    {
     "name": "stdout",
     "output_type": "stream",
     "text": [
      "train Loss: 0.0353 Acc: 0.9232\n"
     ]
    },
    {
     "name": "stderr",
     "output_type": "stream",
     "text": [
      "test epoch 7/20: 100%|██████████| 79/79 [00:03<00:00, 26.00batch/s, loss=0.0380]\n"
     ]
    },
    {
     "name": "stdout",
     "output_type": "stream",
     "text": [
      "test Loss: 0.0380 Acc: 0.9169\n",
      "Epoch 7 completed in 22 seconds\n",
      "Epoch 8/20\n",
      "----------\n"
     ]
    },
    {
     "name": "stderr",
     "output_type": "stream",
     "text": [
      "train epoch 8/20: 100%|██████████| 469/469 [00:18<00:00, 25.34batch/s, loss=0.0348]\n"
     ]
    },
    {
     "name": "stdout",
     "output_type": "stream",
     "text": [
      "train Loss: 0.0348 Acc: 0.9229\n"
     ]
    },
    {
     "name": "stderr",
     "output_type": "stream",
     "text": [
      "test epoch 8/20: 100%|██████████| 79/79 [00:03<00:00, 24.97batch/s, loss=0.0391]\n"
     ]
    },
    {
     "name": "stdout",
     "output_type": "stream",
     "text": [
      "test Loss: 0.0391 Acc: 0.9145\n",
      "Epoch 8 completed in 22 seconds\n",
      "Epoch 9/20\n",
      "----------\n"
     ]
    },
    {
     "name": "stderr",
     "output_type": "stream",
     "text": [
      "train epoch 9/20: 100%|██████████| 469/469 [00:13<00:00, 35.55batch/s, loss=0.0341]\n"
     ]
    },
    {
     "name": "stdout",
     "output_type": "stream",
     "text": [
      "train Loss: 0.0341 Acc: 0.9240\n"
     ]
    },
    {
     "name": "stderr",
     "output_type": "stream",
     "text": [
      "test epoch 9/20: 100%|██████████| 79/79 [00:01<00:00, 41.54batch/s, loss=0.0378]\n"
     ]
    },
    {
     "name": "stdout",
     "output_type": "stream",
     "text": [
      "test Loss: 0.0378 Acc: 0.9194\n",
      "Epoch 9 completed in 15 seconds\n",
      "Epoch 10/20\n",
      "----------\n"
     ]
    },
    {
     "name": "stderr",
     "output_type": "stream",
     "text": [
      "train epoch 10/20: 100%|██████████| 469/469 [00:10<00:00, 44.44batch/s, loss=0.0335]\n"
     ]
    },
    {
     "name": "stdout",
     "output_type": "stream",
     "text": [
      "train Loss: 0.0335 Acc: 0.9250\n"
     ]
    },
    {
     "name": "stderr",
     "output_type": "stream",
     "text": [
      "test epoch 10/20: 100%|██████████| 79/79 [00:01<00:00, 43.14batch/s, loss=0.0366]\n"
     ]
    },
    {
     "name": "stdout",
     "output_type": "stream",
     "text": [
      "Model saved to ./saved_models\\best_linearsvm_mnist_mnist.pth\n",
      "test Loss: 0.0366 Acc: 0.9207\n",
      "Epoch 10 completed in 12 seconds\n",
      "Epoch 11/20\n",
      "----------\n"
     ]
    },
    {
     "name": "stderr",
     "output_type": "stream",
     "text": [
      "train epoch 11/20: 100%|██████████| 469/469 [00:11<00:00, 41.44batch/s, loss=0.0330]\n"
     ]
    },
    {
     "name": "stdout",
     "output_type": "stream",
     "text": [
      "train Loss: 0.0330 Acc: 0.9262\n"
     ]
    },
    {
     "name": "stderr",
     "output_type": "stream",
     "text": [
      "test epoch 11/20: 100%|██████████| 79/79 [00:01<00:00, 43.72batch/s, loss=0.0362]\n"
     ]
    },
    {
     "name": "stdout",
     "output_type": "stream",
     "text": [
      "Model saved to ./saved_models\\best_linearsvm_mnist_mnist.pth\n",
      "test Loss: 0.0362 Acc: 0.9218\n",
      "Epoch 11 completed in 13 seconds\n",
      "Epoch 12/20\n",
      "----------\n"
     ]
    },
    {
     "name": "stderr",
     "output_type": "stream",
     "text": [
      "train epoch 12/20: 100%|██████████| 469/469 [00:11<00:00, 40.85batch/s, loss=0.0323]\n"
     ]
    },
    {
     "name": "stdout",
     "output_type": "stream",
     "text": [
      "train Loss: 0.0323 Acc: 0.9281\n"
     ]
    },
    {
     "name": "stderr",
     "output_type": "stream",
     "text": [
      "test epoch 12/20: 100%|██████████| 79/79 [00:01<00:00, 42.55batch/s, loss=0.0370]\n"
     ]
    },
    {
     "name": "stdout",
     "output_type": "stream",
     "text": [
      "test Loss: 0.0370 Acc: 0.9239\n",
      "Epoch 12 completed in 13 seconds\n",
      "Epoch 13/20\n",
      "----------\n"
     ]
    },
    {
     "name": "stderr",
     "output_type": "stream",
     "text": [
      "train epoch 13/20: 100%|██████████| 469/469 [00:16<00:00, 27.72batch/s, loss=0.0319]\n"
     ]
    },
    {
     "name": "stdout",
     "output_type": "stream",
     "text": [
      "train Loss: 0.0319 Acc: 0.9282\n"
     ]
    },
    {
     "name": "stderr",
     "output_type": "stream",
     "text": [
      "test epoch 13/20: 100%|██████████| 79/79 [00:02<00:00, 26.38batch/s, loss=0.0373]\n"
     ]
    },
    {
     "name": "stdout",
     "output_type": "stream",
     "text": [
      "test Loss: 0.0373 Acc: 0.9217\n",
      "Epoch 13 completed in 20 seconds\n",
      "Epoch 14/20\n",
      "----------\n"
     ]
    },
    {
     "name": "stderr",
     "output_type": "stream",
     "text": [
      "train epoch 14/20: 100%|██████████| 469/469 [00:19<00:00, 23.83batch/s, loss=0.0314]\n"
     ]
    },
    {
     "name": "stdout",
     "output_type": "stream",
     "text": [
      "train Loss: 0.0314 Acc: 0.9296\n"
     ]
    },
    {
     "name": "stderr",
     "output_type": "stream",
     "text": [
      "test epoch 14/20: 100%|██████████| 79/79 [00:02<00:00, 36.34batch/s, loss=0.0371]\n"
     ]
    },
    {
     "name": "stdout",
     "output_type": "stream",
     "text": [
      "test Loss: 0.0371 Acc: 0.9229\n",
      "Epoch 14 completed in 22 seconds\n",
      "Epoch 15/20\n",
      "----------\n"
     ]
    },
    {
     "name": "stderr",
     "output_type": "stream",
     "text": [
      "train epoch 15/20: 100%|██████████| 469/469 [00:12<00:00, 37.95batch/s, loss=0.0310]\n"
     ]
    },
    {
     "name": "stdout",
     "output_type": "stream",
     "text": [
      "train Loss: 0.0310 Acc: 0.9305\n"
     ]
    },
    {
     "name": "stderr",
     "output_type": "stream",
     "text": [
      "test epoch 15/20: 100%|██████████| 79/79 [00:02<00:00, 27.27batch/s, loss=0.0366]\n"
     ]
    },
    {
     "name": "stdout",
     "output_type": "stream",
     "text": [
      "test Loss: 0.0366 Acc: 0.9226\n",
      "Epoch 15 completed in 15 seconds\n",
      "Epoch 16/20\n",
      "----------\n"
     ]
    },
    {
     "name": "stderr",
     "output_type": "stream",
     "text": [
      "train epoch 16/20: 100%|██████████| 469/469 [00:18<00:00, 25.64batch/s, loss=0.0305]\n"
     ]
    },
    {
     "name": "stdout",
     "output_type": "stream",
     "text": [
      "train Loss: 0.0305 Acc: 0.9302\n"
     ]
    },
    {
     "name": "stderr",
     "output_type": "stream",
     "text": [
      "test epoch 16/20: 100%|██████████| 79/79 [00:01<00:00, 45.81batch/s, loss=0.0362]\n"
     ]
    },
    {
     "name": "stdout",
     "output_type": "stream",
     "text": [
      "test Loss: 0.0362 Acc: 0.9234\n",
      "Epoch 16 completed in 20 seconds\n",
      "Epoch 17/20\n",
      "----------\n"
     ]
    },
    {
     "name": "stderr",
     "output_type": "stream",
     "text": [
      "train epoch 17/20: 100%|██████████| 469/469 [00:10<00:00, 46.02batch/s, loss=0.0302]\n"
     ]
    },
    {
     "name": "stdout",
     "output_type": "stream",
     "text": [
      "train Loss: 0.0302 Acc: 0.9317\n"
     ]
    },
    {
     "name": "stderr",
     "output_type": "stream",
     "text": [
      "test epoch 17/20: 100%|██████████| 79/79 [00:01<00:00, 49.00batch/s, loss=0.0363]\n"
     ]
    },
    {
     "name": "stdout",
     "output_type": "stream",
     "text": [
      "test Loss: 0.0363 Acc: 0.9242\n",
      "Epoch 17 completed in 12 seconds\n",
      "Epoch 18/20\n",
      "----------\n"
     ]
    },
    {
     "name": "stderr",
     "output_type": "stream",
     "text": [
      "train epoch 18/20: 100%|██████████| 469/469 [00:10<00:00, 46.57batch/s, loss=0.0299]\n"
     ]
    },
    {
     "name": "stdout",
     "output_type": "stream",
     "text": [
      "train Loss: 0.0299 Acc: 0.9321\n"
     ]
    },
    {
     "name": "stderr",
     "output_type": "stream",
     "text": [
      "test epoch 18/20: 100%|██████████| 79/79 [00:01<00:00, 48.84batch/s, loss=0.0362]\n"
     ]
    },
    {
     "name": "stdout",
     "output_type": "stream",
     "text": [
      "Model saved to ./saved_models\\best_linearsvm_mnist_mnist.pth\n",
      "test Loss: 0.0362 Acc: 0.9242\n",
      "Epoch 18 completed in 12 seconds\n",
      "Epoch 19/20\n",
      "----------\n"
     ]
    },
    {
     "name": "stderr",
     "output_type": "stream",
     "text": [
      "train epoch 19/20: 100%|██████████| 469/469 [00:11<00:00, 41.99batch/s, loss=0.0297]\n"
     ]
    },
    {
     "name": "stdout",
     "output_type": "stream",
     "text": [
      "train Loss: 0.0297 Acc: 0.9325\n"
     ]
    },
    {
     "name": "stderr",
     "output_type": "stream",
     "text": [
      "test epoch 19/20: 100%|██████████| 79/79 [00:02<00:00, 27.14batch/s, loss=0.0360]\n"
     ]
    },
    {
     "name": "stdout",
     "output_type": "stream",
     "text": [
      "Model saved to ./saved_models\\best_linearsvm_mnist_mnist.pth\n",
      "test Loss: 0.0360 Acc: 0.9245\n",
      "Epoch 19 completed in 14 seconds\n",
      "Epoch 20/20\n",
      "----------\n"
     ]
    },
    {
     "name": "stderr",
     "output_type": "stream",
     "text": [
      "train epoch 20/20: 100%|██████████| 469/469 [00:17<00:00, 26.31batch/s, loss=0.0296]\n"
     ]
    },
    {
     "name": "stdout",
     "output_type": "stream",
     "text": [
      "train Loss: 0.0296 Acc: 0.9325\n"
     ]
    },
    {
     "name": "stderr",
     "output_type": "stream",
     "text": [
      "test epoch 20/20: 100%|██████████| 79/79 [00:02<00:00, 27.91batch/s, loss=0.0360]\n"
     ]
    },
    {
     "name": "stdout",
     "output_type": "stream",
     "text": [
      "Model saved to ./saved_models\\best_linearsvm_mnist_mnist.pth\n",
      "test Loss: 0.0360 Acc: 0.9241\n",
      "Epoch 20 completed in 21 seconds\n",
      "Training complete in 6m 7s\n",
      "Best test Acc: 0.9245\n",
      "Best test Loss: 0.0360\n"
     ]
    },
    {
     "data": {
      "image/png": "[encoded data removed]",
      "text/plain": [
       "<Figure size 1200x400 with 2 Axes>"
      ]
     },
     "metadata": {},
     "output_type": "display_data"
    },
    {
     "name": "stderr",
     "output_type": "stream",
     "text": [
      "Evaluating: 100%|██████████| 79/79 [00:02<00:00, 27.04batch/s]\n"
     ]
    },
    {
     "name": "stdout",
     "output_type": "stream",
     "text": [
      "Evaluation Results:\n",
      "Top-1 Accuracy: 92.45%\n",
      "Top-1 Error: 7.55%\n",
      "Top-5 Accuracy: 99.66%\n",
      "Top-5 Error: 0.34%\n",
      "Time taken for evaluation: 2.94 seconds\n",
      "              precision    recall  f1-score   support\n",
      "\n",
      "           0       0.96      0.97      0.97       980\n",
      "           1       0.97      0.98      0.97      1135\n",
      "           2       0.92      0.89      0.91      1032\n",
      "           3       0.91      0.90      0.91      1010\n",
      "           4       0.94      0.93      0.93       982\n",
      "           5       0.89      0.88      0.88       892\n",
      "           6       0.94      0.95      0.94       958\n",
      "           7       0.93      0.93      0.93      1028\n",
      "           8       0.87      0.88      0.87       974\n",
      "           9       0.92      0.91      0.92      1009\n",
      "\n",
      "    accuracy                           0.92     10000\n",
      "   macro avg       0.92      0.92      0.92     10000\n",
      "weighted avg       0.92      0.92      0.92     10000\n",
      "\n"
     ]
    },
    {
     "data": {
      "image/png": "[encoded data removed]",
      "text/plain": [
       "<Figure size 1000x800 with 2 Axes>"
      ]
     },
     "metadata": {},
     "output_type": "display_data"
    },
    {
     "name": "stdout",
     "output_type": "stream",
     "text": [
      "\n",
      "========================================\n",
      " LinearSVM TRAINING COMPLETE \n",
      "========================================\n",
      "\n",
      "\n",
      "========================================\n",
      " RUNNING TRAINING FOR LeNet ON MNIST \n",
      "========================================\n",
      "\n",
      "Running LeNet with args: Namespace(train_dir=None, test_dir=None, mnist_data_dir='./mnist_data', input_size=28, batch_size=128, num_epochs=20, learning_rate=0.001, model_name='lenet', pretrained=False, save_path='./saved_models\\\\best_lenet_mnist.pth', criterion='cross_entropy', optimizer='adam', scheduler='cosine', num_warmup_steps=0, model_type='large', dropout_rate=0.4, use_class_weights=False, weight_type='inverse')\n",
      "Using device: cuda\n",
      "MNIST Data Prepared:\n",
      "Number of classes: 10\n",
      "Train set size: 60000\n",
      "Test set size: 10000\n",
      "Dataset sizes: {'train': 60000, 'test': 10000}\n",
      "Class names: ['0', '1', '2', '3', '4', '5', '6', '7', '8', '9']\n",
      "Model: LeNet(\n",
      "  (conv1): Conv2d(1, 6, kernel_size=(5, 5), stride=(1, 1), padding=(2, 2))\n",
      "  (maxpool1): MaxPool2d(kernel_size=2, stride=2, padding=0, dilation=1, ceil_mode=False)\n",
      "  (conv2): Conv2d(6, 16, kernel_size=(5, 5), stride=(1, 1))\n",
      "  (maxpool2): MaxPool2d(kernel_size=2, stride=2, padding=0, dilation=1, ceil_mode=False)\n",
      "  (conv3): Conv2d(16, 120, kernel_size=(5, 5), stride=(1, 1))\n",
      "  (fc1): Linear(in_features=120, out_features=84, bias=True)\n",
      "  (fc2): Linear(in_features=84, out_features=10, bias=True)\n",
      ")\n",
      "Epoch 1/20\n",
      "----------\n"
     ]
    },
    {
     "name": "stderr",
     "output_type": "stream",
     "text": [
      "train epoch 1/20: 100%|██████████| 469/469 [00:18<00:00, 24.69batch/s, loss=0.3002]\n"
     ]
    },
    {
     "name": "stdout",
     "output_type": "stream",
     "text": [
      "train Loss: 0.3002 Acc: 0.9113\n"
     ]
    },
    {
     "name": "stderr",
     "output_type": "stream",
     "text": [
      "test epoch 1/20: 100%|██████████| 79/79 [00:01<00:00, 41.02batch/s, loss=0.0988]\n"
     ]
    },
    {
     "name": "stdout",
     "output_type": "stream",
     "text": [
      "Model saved to ./saved_models\\best_lenet_mnist.pth\n",
      "test Loss: 0.0988 Acc: 0.9679\n",
      "Epoch 1 completed in 21 seconds\n",
      "Epoch 2/20\n",
      "----------\n"
     ]
    },
    {
     "name": "stderr",
     "output_type": "stream",
     "text": [
      "train epoch 2/20: 100%|██████████| 469/469 [00:15<00:00, 29.93batch/s, loss=0.0765]\n"
     ]
    },
    {
     "name": "stdout",
     "output_type": "stream",
     "text": [
      "train Loss: 0.0765 Acc: 0.9764\n"
     ]
    },
    {
     "name": "stderr",
     "output_type": "stream",
     "text": [
      "test epoch 2/20: 100%|██████████| 79/79 [00:01<00:00, 41.87batch/s, loss=0.0482]\n"
     ]
    },
    {
     "name": "stdout",
     "output_type": "stream",
     "text": [
      "Model saved to ./saved_models\\best_lenet_mnist.pth\n",
      "test Loss: 0.0482 Acc: 0.9840\n",
      "Epoch 2 completed in 18 seconds\n",
      "Epoch 3/20\n",
      "----------\n"
     ]
    },
    {
     "name": "stderr",
     "output_type": "stream",
     "text": [
      "train epoch 3/20: 100%|██████████| 469/469 [00:15<00:00, 29.95batch/s, loss=0.0539]\n"
     ]
    },
    {
     "name": "stdout",
     "output_type": "stream",
     "text": [
      "train Loss: 0.0539 Acc: 0.9829\n"
     ]
    },
    {
     "name": "stderr",
     "output_type": "stream",
     "text": [
      "test epoch 3/20: 100%|██████████| 79/79 [00:01<00:00, 41.53batch/s, loss=0.0394]\n"
     ]
    },
    {
     "name": "stdout",
     "output_type": "stream",
     "text": [
      "Model saved to ./saved_models\\best_lenet_mnist.pth\n",
      "test Loss: 0.0394 Acc: 0.9864\n",
      "Epoch 3 completed in 18 seconds\n",
      "Epoch 4/20\n",
      "----------\n"
     ]
    },
    {
     "name": "stderr",
     "output_type": "stream",
     "text": [
      "train epoch 4/20: 100%|██████████| 469/469 [00:15<00:00, 29.97batch/s, loss=0.0424]\n"
     ]
    },
    {
     "name": "stdout",
     "output_type": "stream",
     "text": [
      "train Loss: 0.0424 Acc: 0.9864\n"
     ]
    },
    {
     "name": "stderr",
     "output_type": "stream",
     "text": [
      "test epoch 4/20: 100%|██████████| 79/79 [00:01<00:00, 41.90batch/s, loss=0.0380]\n"
     ]
    },
    {
     "name": "stdout",
     "output_type": "stream",
     "text": [
      "Model saved to ./saved_models\\best_lenet_mnist.pth\n",
      "test Loss: 0.0380 Acc: 0.9867\n",
      "Epoch 4 completed in 18 seconds\n",
      "Epoch 5/20\n",
      "----------\n"
     ]
    },
    {
     "name": "stderr",
     "output_type": "stream",
     "text": [
      "train epoch 5/20: 100%|██████████| 469/469 [00:15<00:00, 29.91batch/s, loss=0.0344]\n"
     ]
    },
    {
     "name": "stdout",
     "output_type": "stream",
     "text": [
      "train Loss: 0.0344 Acc: 0.9893\n"
     ]
    },
    {
     "name": "stderr",
     "output_type": "stream",
     "text": [
      "test epoch 5/20: 100%|██████████| 79/79 [00:01<00:00, 41.71batch/s, loss=0.0347]\n"
     ]
    },
    {
     "name": "stdout",
     "output_type": "stream",
     "text": [
      "Model saved to ./saved_models\\best_lenet_mnist.pth\n",
      "test Loss: 0.0347 Acc: 0.9885\n",
      "Epoch 5 completed in 18 seconds\n",
      "Epoch 6/20\n",
      "----------\n"
     ]
    },
    {
     "name": "stderr",
     "output_type": "stream",
     "text": [
      "train epoch 6/20: 100%|██████████| 469/469 [00:15<00:00, 29.91batch/s, loss=0.0284]\n"
     ]
    },
    {
     "name": "stdout",
     "output_type": "stream",
     "text": [
      "train Loss: 0.0284 Acc: 0.9909\n"
     ]
    },
    {
     "name": "stderr",
     "output_type": "stream",
     "text": [
      "test epoch 6/20: 100%|██████████| 79/79 [00:01<00:00, 41.84batch/s, loss=0.0314]\n"
     ]
    },
    {
     "name": "stdout",
     "output_type": "stream",
     "text": [
      "Model saved to ./saved_models\\best_lenet_mnist.pth\n",
      "test Loss: 0.0314 Acc: 0.9891\n",
      "Epoch 6 completed in 18 seconds\n",
      "Epoch 7/20\n",
      "----------\n"
     ]
    },
    {
     "name": "stderr",
     "output_type": "stream",
     "text": [
      "train epoch 7/20: 100%|██████████| 469/469 [00:15<00:00, 29.93batch/s, loss=0.0234]\n"
     ]
    },
    {
     "name": "stdout",
     "output_type": "stream",
     "text": [
      "train Loss: 0.0234 Acc: 0.9928\n"
     ]
    },
    {
     "name": "stderr",
     "output_type": "stream",
     "text": [
      "test epoch 7/20: 100%|██████████| 79/79 [00:01<00:00, 42.41batch/s, loss=0.0330]\n"
     ]
    },
    {
     "name": "stdout",
     "output_type": "stream",
     "text": [
      "test Loss: 0.0330 Acc: 0.9904\n",
      "Epoch 7 completed in 18 seconds\n",
      "Epoch 8/20\n",
      "----------\n"
     ]
    },
    {
     "name": "stderr",
     "output_type": "stream",
     "text": [
      "train epoch 8/20: 100%|██████████| 469/469 [00:15<00:00, 30.09batch/s, loss=0.0191]\n"
     ]
    },
    {
     "name": "stdout",
     "output_type": "stream",
     "text": [
      "train Loss: 0.0191 Acc: 0.9939\n"
     ]
    },
    {
     "name": "stderr",
     "output_type": "stream",
     "text": [
      "test epoch 8/20: 100%|██████████| 79/79 [00:01<00:00, 41.46batch/s, loss=0.0308]\n"
     ]
    },
    {
     "name": "stdout",
     "output_type": "stream",
     "text": [
      "Model saved to ./saved_models\\best_lenet_mnist.pth\n",
      "test Loss: 0.0308 Acc: 0.9897\n",
      "Epoch 8 completed in 17 seconds\n",
      "Epoch 9/20\n",
      "----------\n"
     ]
    },
    {
     "name": "stderr",
     "output_type": "stream",
     "text": [
      "train epoch 9/20: 100%|██████████| 469/469 [00:15<00:00, 29.94batch/s, loss=0.0138]\n"
     ]
    },
    {
     "name": "stdout",
     "output_type": "stream",
     "text": [
      "train Loss: 0.0138 Acc: 0.9956\n"
     ]
    },
    {
     "name": "stderr",
     "output_type": "stream",
     "text": [
      "test epoch 9/20: 100%|██████████| 79/79 [00:01<00:00, 41.95batch/s, loss=0.0366]\n"
     ]
    },
    {
     "name": "stdout",
     "output_type": "stream",
     "text": [
      "test Loss: 0.0366 Acc: 0.9885\n",
      "Epoch 9 completed in 18 seconds\n",
      "Epoch 10/20\n",
      "----------\n"
     ]
    },
    {
     "name": "stderr",
     "output_type": "stream",
     "text": [
      "train epoch 10/20: 100%|██████████| 469/469 [00:15<00:00, 29.94batch/s, loss=0.0111]\n"
     ]
    },
    {
     "name": "stdout",
     "output_type": "stream",
     "text": [
      "train Loss: 0.0111 Acc: 0.9964\n"
     ]
    },
    {
     "name": "stderr",
     "output_type": "stream",
     "text": [
      "test epoch 10/20: 100%|██████████| 79/79 [00:01<00:00, 42.23batch/s, loss=0.0315]\n"
     ]
    },
    {
     "name": "stdout",
     "output_type": "stream",
     "text": [
      "test Loss: 0.0315 Acc: 0.9904\n",
      "Epoch 10 completed in 18 seconds\n",
      "Epoch 11/20\n",
      "----------\n"
     ]
    },
    {
     "name": "stderr",
     "output_type": "stream",
     "text": [
      "train epoch 11/20: 100%|██████████| 469/469 [00:15<00:00, 29.85batch/s, loss=0.0084]\n"
     ]
    },
    {
     "name": "stdout",
     "output_type": "stream",
     "text": [
      "train Loss: 0.0084 Acc: 0.9974\n"
     ]
    },
    {
     "name": "stderr",
     "output_type": "stream",
     "text": [
      "test epoch 11/20: 100%|██████████| 79/79 [00:01<00:00, 41.42batch/s, loss=0.0325]\n"
     ]
    },
    {
     "name": "stdout",
     "output_type": "stream",
     "text": [
      "test Loss: 0.0325 Acc: 0.9906\n",
      "Epoch 11 completed in 18 seconds\n",
      "Epoch 12/20\n",
      "----------\n"
     ]
    },
    {
     "name": "stderr",
     "output_type": "stream",
     "text": [
      "train epoch 12/20: 100%|██████████| 469/469 [00:15<00:00, 29.89batch/s, loss=0.0056]\n"
     ]
    },
    {
     "name": "stdout",
     "output_type": "stream",
     "text": [
      "train Loss: 0.0056 Acc: 0.9985\n"
     ]
    },
    {
     "name": "stderr",
     "output_type": "stream",
     "text": [
      "test epoch 12/20: 100%|██████████| 79/79 [00:01<00:00, 41.84batch/s, loss=0.0320]\n"
     ]
    },
    {
     "name": "stdout",
     "output_type": "stream",
     "text": [
      "test Loss: 0.0320 Acc: 0.9910\n",
      "Epoch 12 completed in 18 seconds\n",
      "Epoch 13/20\n",
      "----------\n"
     ]
    },
    {
     "name": "stderr",
     "output_type": "stream",
     "text": [
      "train epoch 13/20: 100%|██████████| 469/469 [00:15<00:00, 29.91batch/s, loss=0.0046]\n"
     ]
    },
    {
     "name": "stdout",
     "output_type": "stream",
     "text": [
      "train Loss: 0.0046 Acc: 0.9987\n"
     ]
    },
    {
     "name": "stderr",
     "output_type": "stream",
     "text": [
      "test epoch 13/20: 100%|██████████| 79/79 [00:01<00:00, 42.09batch/s, loss=0.0331]\n"
     ]
    },
    {
     "name": "stdout",
     "output_type": "stream",
     "text": [
      "test Loss: 0.0331 Acc: 0.9912\n",
      "Epoch 13 completed in 18 seconds\n",
      "Epoch 14/20\n",
      "----------\n"
     ]
    },
    {
     "name": "stderr",
     "output_type": "stream",
     "text": [
      "train epoch 14/20: 100%|██████████| 469/469 [00:15<00:00, 29.97batch/s, loss=0.0030]\n"
     ]
    },
    {
     "name": "stdout",
     "output_type": "stream",
     "text": [
      "train Loss: 0.0030 Acc: 0.9995\n"
     ]
    },
    {
     "name": "stderr",
     "output_type": "stream",
     "text": [
      "test epoch 14/20: 100%|██████████| 79/79 [00:01<00:00, 41.37batch/s, loss=0.0295]\n"
     ]
    },
    {
     "name": "stdout",
     "output_type": "stream",
     "text": [
      "Model saved to ./saved_models\\best_lenet_mnist.pth\n",
      "test Loss: 0.0295 Acc: 0.9915\n",
      "Epoch 14 completed in 18 seconds\n",
      "Epoch 15/20\n",
      "----------\n"
     ]
    },
    {
     "name": "stderr",
     "output_type": "stream",
     "text": [
      "train epoch 15/20: 100%|██████████| 469/469 [00:16<00:00, 28.63batch/s, loss=0.0023]\n"
     ]
    },
    {
     "name": "stdout",
     "output_type": "stream",
     "text": [
      "train Loss: 0.0023 Acc: 0.9995\n"
     ]
    },
    {
     "name": "stderr",
     "output_type": "stream",
     "text": [
      "test epoch 15/20: 100%|██████████| 79/79 [00:01<00:00, 40.12batch/s, loss=0.0325]\n"
     ]
    },
    {
     "name": "stdout",
     "output_type": "stream",
     "text": [
      "test Loss: 0.0325 Acc: 0.9912\n",
      "Epoch 15 completed in 18 seconds\n",
      "Epoch 16/20\n",
      "----------\n"
     ]
    },
    {
     "name": "stderr",
     "output_type": "stream",
     "text": [
      "train epoch 16/20: 100%|██████████| 469/469 [00:16<00:00, 28.45batch/s, loss=0.0017]\n"
     ]
    },
    {
     "name": "stdout",
     "output_type": "stream",
     "text": [
      "train Loss: 0.0017 Acc: 0.9997\n"
     ]
    },
    {
     "name": "stderr",
     "output_type": "stream",
     "text": [
      "test epoch 16/20: 100%|██████████| 79/79 [00:01<00:00, 40.64batch/s, loss=0.0321]\n"
     ]
    },
    {
     "name": "stdout",
     "output_type": "stream",
     "text": [
      "test Loss: 0.0321 Acc: 0.9917\n",
      "Epoch 16 completed in 18 seconds\n",
      "Epoch 17/20\n",
      "----------\n"
     ]
    },
    {
     "name": "stderr",
     "output_type": "stream",
     "text": [
      "train epoch 17/20: 100%|██████████| 469/469 [00:16<00:00, 29.04batch/s, loss=0.0014]\n"
     ]
    },
    {
     "name": "stdout",
     "output_type": "stream",
     "text": [
      "train Loss: 0.0014 Acc: 0.9998\n"
     ]
    },
    {
     "name": "stderr",
     "output_type": "stream",
     "text": [
      "test epoch 17/20: 100%|██████████| 79/79 [00:01<00:00, 40.31batch/s, loss=0.0316]\n"
     ]
    },
    {
     "name": "stdout",
     "output_type": "stream",
     "text": [
      "test Loss: 0.0316 Acc: 0.9916\n",
      "Epoch 17 completed in 18 seconds\n",
      "Epoch 18/20\n",
      "----------\n"
     ]
    },
    {
     "name": "stderr",
     "output_type": "stream",
     "text": [
      "train epoch 18/20: 100%|██████████| 469/469 [00:16<00:00, 28.96batch/s, loss=0.0011]\n"
     ]
    },
    {
     "name": "stdout",
     "output_type": "stream",
     "text": [
      "train Loss: 0.0011 Acc: 0.9998\n"
     ]
    },
    {
     "name": "stderr",
     "output_type": "stream",
     "text": [
      "test epoch 18/20: 100%|██████████| 79/79 [00:01<00:00, 41.54batch/s, loss=0.0315]\n"
     ]
    },
    {
     "name": "stdout",
     "output_type": "stream",
     "text": [
      "test Loss: 0.0315 Acc: 0.9917\n",
      "Epoch 18 completed in 18 seconds\n",
      "Epoch 19/20\n",
      "----------\n"
     ]
    },
    {
     "name": "stderr",
     "output_type": "stream",
     "text": [
      "train epoch 19/20: 100%|██████████| 469/469 [00:15<00:00, 29.43batch/s, loss=0.0010]\n"
     ]
    },
    {
     "name": "stdout",
     "output_type": "stream",
     "text": [
      "train Loss: 0.0010 Acc: 0.9998\n"
     ]
    },
    {
     "name": "stderr",
     "output_type": "stream",
     "text": [
      "test epoch 19/20: 100%|██████████| 79/79 [00:01<00:00, 41.26batch/s, loss=0.0313]\n"
     ]
    },
    {
     "name": "stdout",
     "output_type": "stream",
     "text": [
      "test Loss: 0.0313 Acc: 0.9918\n",
      "Epoch 19 completed in 18 seconds\n",
      "Epoch 20/20\n",
      "----------\n"
     ]
    },
    {
     "name": "stderr",
     "output_type": "stream",
     "text": [
      "train epoch 20/20: 100%|██████████| 469/469 [00:15<00:00, 29.78batch/s, loss=0.0009]\n"
     ]
    },
    {
     "name": "stdout",
     "output_type": "stream",
     "text": [
      "train Loss: 0.0009 Acc: 0.9998\n"
     ]
    },
    {
     "name": "stderr",
     "output_type": "stream",
     "text": [
      "test epoch 20/20: 100%|██████████| 79/79 [00:01<00:00, 41.65batch/s, loss=0.0314]\n"
     ]
    },
    {
     "name": "stdout",
     "output_type": "stream",
     "text": [
      "test Loss: 0.0314 Acc: 0.9918\n",
      "Epoch 20 completed in 18 seconds\n",
      "Training complete in 5m 58s\n",
      "Best test Acc: 0.9918\n",
      "Best test Loss: 0.0295\n"
     ]
    },
    {
     "data": {
      "image/png": "[encoded data removed]",
      "text/plain": [
       "<Figure size 1200x400 with 2 Axes>"
      ]
     },
     "metadata": {},
     "output_type": "display_data"
    },
    {
     "name": "stderr",
     "output_type": "stream",
     "text": [
      "Evaluating: 100%|██████████| 79/79 [00:01<00:00, 43.09batch/s]\n"
     ]
    },
    {
     "name": "stdout",
     "output_type": "stream",
     "text": [
      "Evaluation Results:\n",
      "Top-1 Accuracy: 99.18%\n",
      "Top-1 Error: 0.82%\n",
      "Top-5 Accuracy: 100.00%\n",
      "Top-5 Error: 0.00%\n",
      "Time taken for evaluation: 1.83 seconds\n",
      "              precision    recall  f1-score   support\n",
      "\n",
      "           0       0.99      1.00      0.99       980\n",
      "           1       1.00      1.00      1.00      1135\n",
      "           2       0.99      0.99      0.99      1032\n",
      "           3       0.99      0.99      0.99      1010\n",
      "           4       0.99      0.99      0.99       982\n",
      "           5       0.99      0.99      0.99       892\n",
      "           6       0.99      0.99      0.99       958\n",
      "           7       0.99      0.99      0.99      1028\n",
      "           8       0.99      0.99      0.99       974\n",
      "           9       0.99      0.99      0.99      1009\n",
      "\n",
      "    accuracy                           0.99     10000\n",
      "   macro avg       0.99      0.99      0.99     10000\n",
      "weighted avg       0.99      0.99      0.99     10000\n",
      "\n"
     ]
    },
    {
     "data": {
      "image/png": "[encoded data removed]",
      "text/plain": [
       "<Figure size 1000x800 with 2 Axes>"
      ]
     },
     "metadata": {},
     "output_type": "display_data"
    },
    {
     "name": "stdout",
     "output_type": "stream",
     "text": [
      "\n",
      "========================================\n",
      " LeNet TRAINING COMPLETE \n",
      "========================================\n",
      "\n",
      "All training sessions complete.\n",
      "Check ./saved_models for saved models and outputs/plots generated by train.py.\n"
     ]
    }
   ],
   "source": [
    "\n",
    "import os\n",
    "from train import main as run_training_script\n",
    "from train import parse_args\n",
    "\n",
    "MNIST_DATA_DIR = './mnist_data'\n",
    "SAVE_DIR = './saved_models'\n",
    "\n",
    "if not os.path.exists(SAVE_DIR):\n",
    "    os.makedirs(SAVE_DIR)\n",
    "if not os.path.exists(MNIST_DATA_DIR): \n",
    "    os.makedirs(MNIST_DATA_DIR)\n",
    "\n",
    "print(f\"MNIST data will be stored/looked for in: {MNIST_DATA_DIR}\")\n",
    "print(f\"Saved models will be stored in: {SAVE_DIR}\")\n",
    "\n",
    "def get_arg_list(model_name, criterion, epochs=5, lr=0.001, batch_size=64, scheduler='cosine', input_size=28):\n",
    "    save_path = os.path.join(SAVE_DIR, f'best_{model_name}_mnist.pth')\n",
    "    args = [\n",
    "        '--mnist_data_dir', MNIST_DATA_DIR,\n",
    "        '--model_name', model_name,\n",
    "        '--criterion', criterion,\n",
    "        '--num_epochs', str(epochs),\n",
    "        '--learning_rate', str(lr),\n",
    "        '--batch_size', str(batch_size),\n",
    "        '--input_size', str(input_size), \n",
    "        '--save_path', save_path,\n",
    "        '--optimizer', 'adam',\n",
    "        '--scheduler', scheduler, \n",
    "    ]\n",
    "    return args\n",
    "\n",
    "# --- 1. Training LinearSVM cho MNIST ---\n",
    "print(\"\\n\" + \"=\"*40)\n",
    "print(\" RUNNING TRAINING FOR LinearSVM ON MNIST \")\n",
    "print(\"=\"*40 + \"\\n\")\n",
    "\n",
    "svm_arg_strings = get_arg_list(\n",
    "    model_name='linearsvm_mnist',\n",
    "    criterion='hinge', \n",
    "    epochs=20,\n",
    "    lr=0.001,\n",
    "    batch_size=128,\n",
    "    scheduler='cosine',\n",
    "    input_size=28      \n",
    ")\n",
    "parsed_svm_args = parse_args(svm_arg_strings)\n",
    "print(f\"Running LinearSVM with args: {parsed_svm_args}\")\n",
    "run_training_script(parsed_svm_args)\n",
    "\n",
    "print(\"\\n\" + \"=\"*40)\n",
    "print(\" LinearSVM TRAINING COMPLETE \")\n",
    "print(\"=\"*40 + \"\\n\")\n",
    "\n",
    "\n",
    "# --- 2. Training LeNet cho MNIST ---\n",
    "print(\"\\n\" + \"=\"*40)\n",
    "print(\" RUNNING TRAINING FOR LeNet ON MNIST \")\n",
    "print(\"=\"*40 + \"\\n\")\n",
    "\n",
    "lenet_arg_strings = get_arg_list(\n",
    "    model_name='lenet',\n",
    "    criterion='cross_entropy', \n",
    "    epochs=20,\n",
    "    lr=0.001,\n",
    "    batch_size=128,\n",
    "    scheduler='cosine',\n",
    "    input_size=28 \n",
    ")\n",
    "parsed_lenet_args = parse_args(lenet_arg_strings)\n",
    "print(f\"Running LeNet with args: {parsed_lenet_args}\")\n",
    "run_training_script(parsed_lenet_args)\n",
    "\n",
    "print(\"\\n\" + \"=\"*40)\n",
    "print(\" LeNet TRAINING COMPLETE \")\n",
    "print(\"=\"*40 + \"\\n\")\n",
    "\n",
    "print(\"All training sessions complete.\")\n",
    "print(f\"Check {SAVE_DIR} for saved models and outputs/plots generated by train.py.\")\n"
   ]
  }
 ],
 "metadata": {
  "kernelspec": {
   "display_name": "base",
   "language": "python",
   "name": "python3"
  },
  "language_info": {
   "codemirror_mode": {
    "name": "ipython",
    "version": 3
   },
   "file_extension": ".py",
   "mimetype": "text/x-python",
   "name": "python",
   "nbconvert_exporter": "python",
   "pygments_lexer": "ipython3",
   "version": "3.11.5"
  }
 },
 "nbformat": 4,
 "nbformat_minor": 5
}
